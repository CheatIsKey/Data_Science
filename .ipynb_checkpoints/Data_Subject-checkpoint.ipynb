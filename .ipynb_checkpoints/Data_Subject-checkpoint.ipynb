{
 "cells": [
  {
   "cell_type": "markdown",
   "id": "bea8098c-d5d7-4315-ac2d-d0545ae44da2",
   "metadata": {},
   "source": [
    "# **4.13 실습문제**"
   ]
  },
  {
   "cell_type": "markdown",
   "id": "a5764618-0e2c-40de-ad30-a76d6ed5275d",
   "metadata": {},
   "source": [
    "### [시도별 인구]\n",
    "\n",
    "#### 목표: 시도이름을 기준으로 두 데이터를 병합하고, 여자인구비(%)와 외국인비율(%)를 계산하여 컬럼을 추가하라. 외국인비가 가장 큰 순으로 정렬하라."
   ]
  },
  {
   "cell_type": "markdown",
   "id": "7b4c3443-941b-45d1-90b2-89699075cfad",
   "metadata": {},
   "source": [
    "- 우선, CSV 파일을 데이터프레임으로 불러오고, 데이터 병합, 정렬, 필터링 등의 작업을 간편하게 수행하기 위해 판다스 라이브러리를 불러옵니다.   \n",
    "수치 연산과 배열 처리를 빠르고 효율적으로 수행하기 위해 넘파이를 불러옵니다."
   ]
  },
  {
   "cell_type": "code",
   "execution_count": 1,
   "id": "945b37dd-915a-444a-b9a0-e845022738ac",
   "metadata": {},
   "outputs": [],
   "source": [
    "import pandas as pd\n",
    "import numpy as np"
   ]
  },
  {
   "cell_type": "markdown",
   "id": "31a45140-6140-4eec-ae38-52aba28d3171",
   "metadata": {},
   "source": [
    "- 주어진 '시도별_인구.csv' 파일을 읽어 데이터프레임 a에 저장하고 '시도별_외국인인구.csv' 파일 또한 데이터프레임 b에 저장합니다."
   ]
  },
  {
   "cell_type": "code",
   "execution_count": 2,
   "id": "7c23cf01-6341-4bce-b801-fb9a7749b059",
   "metadata": {},
   "outputs": [],
   "source": [
    "a = pd.read_csv(\"./data/시도별_인구.csv\")  # 데이터프레임 a에 저장\n",
    "b = pd.read_csv(\"./data/시도별_외국인인구.csv\")  # 데이터프레임 b에 저장"
   ]
  },
  {
   "cell_type": "markdown",
   "id": "8b9fe1af-0ce7-4079-b0fb-c03ed778636e",
   "metadata": {},
   "source": [
    "- a와 b를 '시도명'과 '시도' 열을 기준으로 병합하여 x에 저장하고 x를 출력합니다."
   ]
  },
  {
   "cell_type": "code",
   "execution_count": 3,
   "id": "f9aa8e96-249c-4104-b44a-8665cbbb7687",
   "metadata": {},
   "outputs": [
    {
     "data": {
      "text/html": [
       "<div>\n",
       "<style scoped>\n",
       "    .dataframe tbody tr th:only-of-type {\n",
       "        vertical-align: middle;\n",
       "    }\n",
       "\n",
       "    .dataframe tbody tr th {\n",
       "        vertical-align: top;\n",
       "    }\n",
       "\n",
       "    .dataframe thead th {\n",
       "        text-align: right;\n",
       "    }\n",
       "</style>\n",
       "<table border=\"1\" class=\"dataframe\">\n",
       "  <thead>\n",
       "    <tr style=\"text-align: right;\">\n",
       "      <th></th>\n",
       "      <th>시도명</th>\n",
       "      <th>총인구</th>\n",
       "      <th>남자</th>\n",
       "      <th>여자</th>\n",
       "      <th>가구수</th>\n",
       "      <th>시도</th>\n",
       "      <th>외국인</th>\n",
       "    </tr>\n",
       "  </thead>\n",
       "  <tbody>\n",
       "    <tr>\n",
       "      <th>0</th>\n",
       "      <td>서울</td>\n",
       "      <td>9736027</td>\n",
       "      <td>4721977</td>\n",
       "      <td>5014050</td>\n",
       "      <td>4426007</td>\n",
       "      <td>서울</td>\n",
       "      <td>226569</td>\n",
       "    </tr>\n",
       "    <tr>\n",
       "      <th>1</th>\n",
       "      <td>부산</td>\n",
       "      <td>3396109</td>\n",
       "      <td>1663619</td>\n",
       "      <td>1732490</td>\n",
       "      <td>1544663</td>\n",
       "      <td>부산</td>\n",
       "      <td>45729</td>\n",
       "    </tr>\n",
       "    <tr>\n",
       "      <th>2</th>\n",
       "      <td>대구</td>\n",
       "      <td>2412642</td>\n",
       "      <td>1189901</td>\n",
       "      <td>1222741</td>\n",
       "      <td>1063893</td>\n",
       "      <td>대구</td>\n",
       "      <td>27230</td>\n",
       "    </tr>\n",
       "    <tr>\n",
       "      <th>3</th>\n",
       "      <td>인천</td>\n",
       "      <td>3014739</td>\n",
       "      <td>1513277</td>\n",
       "      <td>1501462</td>\n",
       "      <td>1298647</td>\n",
       "      <td>인천</td>\n",
       "      <td>66364</td>\n",
       "    </tr>\n",
       "    <tr>\n",
       "      <th>4</th>\n",
       "      <td>광주</td>\n",
       "      <td>1462545</td>\n",
       "      <td>724178</td>\n",
       "      <td>738367</td>\n",
       "      <td>645712</td>\n",
       "      <td>광주</td>\n",
       "      <td>20934</td>\n",
       "    </tr>\n",
       "    <tr>\n",
       "      <th>5</th>\n",
       "      <td>대전</td>\n",
       "      <td>1469543</td>\n",
       "      <td>732593</td>\n",
       "      <td>736950</td>\n",
       "      <td>664417</td>\n",
       "      <td>대전</td>\n",
       "      <td>17292</td>\n",
       "    </tr>\n",
       "    <tr>\n",
       "      <th>6</th>\n",
       "      <td>울산</td>\n",
       "      <td>1138419</td>\n",
       "      <td>586031</td>\n",
       "      <td>552388</td>\n",
       "      <td>482650</td>\n",
       "      <td>울산</td>\n",
       "      <td>16827</td>\n",
       "    </tr>\n",
       "    <tr>\n",
       "      <th>7</th>\n",
       "      <td>세종</td>\n",
       "      <td>376779</td>\n",
       "      <td>188619</td>\n",
       "      <td>188160</td>\n",
       "      <td>153649</td>\n",
       "      <td>세종</td>\n",
       "      <td>4884</td>\n",
       "    </tr>\n",
       "    <tr>\n",
       "      <th>8</th>\n",
       "      <td>경기</td>\n",
       "      <td>13925862</td>\n",
       "      <td>7038296</td>\n",
       "      <td>6887566</td>\n",
       "      <td>5841995</td>\n",
       "      <td>경기</td>\n",
       "      <td>360412</td>\n",
       "    </tr>\n",
       "    <tr>\n",
       "      <th>9</th>\n",
       "      <td>강원</td>\n",
       "      <td>1555876</td>\n",
       "      <td>783743</td>\n",
       "      <td>772133</td>\n",
       "      <td>746220</td>\n",
       "      <td>강원</td>\n",
       "      <td>17384</td>\n",
       "    </tr>\n",
       "    <tr>\n",
       "      <th>10</th>\n",
       "      <td>충북</td>\n",
       "      <td>1633472</td>\n",
       "      <td>832743</td>\n",
       "      <td>800729</td>\n",
       "      <td>760672</td>\n",
       "      <td>충북</td>\n",
       "      <td>36045</td>\n",
       "    </tr>\n",
       "    <tr>\n",
       "      <th>11</th>\n",
       "      <td>충남</td>\n",
       "      <td>2181835</td>\n",
       "      <td>1120429</td>\n",
       "      <td>1061406</td>\n",
       "      <td>1001915</td>\n",
       "      <td>충남</td>\n",
       "      <td>62578</td>\n",
       "    </tr>\n",
       "    <tr>\n",
       "      <th>12</th>\n",
       "      <td>전북</td>\n",
       "      <td>1817186</td>\n",
       "      <td>905672</td>\n",
       "      <td>911514</td>\n",
       "      <td>849001</td>\n",
       "      <td>전북</td>\n",
       "      <td>30331</td>\n",
       "    </tr>\n",
       "    <tr>\n",
       "      <th>13</th>\n",
       "      <td>전남</td>\n",
       "      <td>1865459</td>\n",
       "      <td>943018</td>\n",
       "      <td>922441</td>\n",
       "      <td>903108</td>\n",
       "      <td>전남</td>\n",
       "      <td>32656</td>\n",
       "    </tr>\n",
       "    <tr>\n",
       "      <th>14</th>\n",
       "      <td>경북</td>\n",
       "      <td>2677709</td>\n",
       "      <td>1355128</td>\n",
       "      <td>1322581</td>\n",
       "      <td>1276846</td>\n",
       "      <td>경북</td>\n",
       "      <td>51100</td>\n",
       "    </tr>\n",
       "    <tr>\n",
       "      <th>15</th>\n",
       "      <td>경남</td>\n",
       "      <td>3377331</td>\n",
       "      <td>1709989</td>\n",
       "      <td>1667342</td>\n",
       "      <td>1505971</td>\n",
       "      <td>경남</td>\n",
       "      <td>63148</td>\n",
       "    </tr>\n",
       "    <tr>\n",
       "      <th>16</th>\n",
       "      <td>제주</td>\n",
       "      <td>697476</td>\n",
       "      <td>350822</td>\n",
       "      <td>346654</td>\n",
       "      <td>307529</td>\n",
       "      <td>제주</td>\n",
       "      <td>20717</td>\n",
       "    </tr>\n",
       "  </tbody>\n",
       "</table>\n",
       "</div>"
      ],
      "text/plain": [
       "   시도명       총인구       남자       여자      가구수  시도     외국인\n",
       "0   서울   9736027  4721977  5014050  4426007  서울  226569\n",
       "1   부산   3396109  1663619  1732490  1544663  부산   45729\n",
       "2   대구   2412642  1189901  1222741  1063893  대구   27230\n",
       "3   인천   3014739  1513277  1501462  1298647  인천   66364\n",
       "4   광주   1462545   724178   738367   645712  광주   20934\n",
       "5   대전   1469543   732593   736950   664417  대전   17292\n",
       "6   울산   1138419   586031   552388   482650  울산   16827\n",
       "7   세종    376779   188619   188160   153649  세종    4884\n",
       "8   경기  13925862  7038296  6887566  5841995  경기  360412\n",
       "9   강원   1555876   783743   772133   746220  강원   17384\n",
       "10  충북   1633472   832743   800729   760672  충북   36045\n",
       "11  충남   2181835  1120429  1061406  1001915  충남   62578\n",
       "12  전북   1817186   905672   911514   849001  전북   30331\n",
       "13  전남   1865459   943018   922441   903108  전남   32656\n",
       "14  경북   2677709  1355128  1322581  1276846  경북   51100\n",
       "15  경남   3377331  1709989  1667342  1505971  경남   63148\n",
       "16  제주    697476   350822   346654   307529  제주   20717"
      ]
     },
     "execution_count": 3,
     "metadata": {},
     "output_type": "execute_result"
    }
   ],
   "source": [
    "x = pd.merge(a, b, left_on=\"시도명\", right_on=\"시도\")\n",
    "x  # 데이터프레임 x를 출력합니다."
   ]
  },
  {
   "cell_type": "markdown",
   "id": "deeaa5dd-ff0d-411a-b974-afe355222b00",
   "metadata": {},
   "source": [
    "- '여자' 인구를 '총인구'로 나누어 백분율로 '여자인구비' 열을 생성합니다.\n",
    "그리고 '외국인' 인구를 '총인구'로 나누어 백분율로 '외국인비' 열을 생성합니다."
   ]
  },
  {
   "cell_type": "code",
   "execution_count": 4,
   "id": "4f144c93-47e9-47be-86ff-2639e26fdaf4",
   "metadata": {},
   "outputs": [],
   "source": [
    "x[\"여자인구비\"] = x[\"여자\"] / x[\"총인구\"] * 100\n",
    "x[\"외국인비\"] = x[\"외국인\"] / x[\"총인구\"] * 100"
   ]
  },
  {
   "cell_type": "markdown",
   "id": "24af3acd-8e9e-4f27-93ce-9e600c9aec83",
   "metadata": {},
   "source": [
    "- 필요한 열만 선택하여 데이터프레임 y에 저장하고 '외국인비'를 기준으로 내림차순 정렬하고 인덱스를 재설정합니다."
   ]
  },
  {
   "cell_type": "code",
   "execution_count": 5,
   "id": "ce40f5da-0cfd-4a00-90fb-fccbc1c12572",
   "metadata": {},
   "outputs": [
    {
     "data": {
      "text/html": [
       "<div>\n",
       "<style scoped>\n",
       "    .dataframe tbody tr th:only-of-type {\n",
       "        vertical-align: middle;\n",
       "    }\n",
       "\n",
       "    .dataframe tbody tr th {\n",
       "        vertical-align: top;\n",
       "    }\n",
       "\n",
       "    .dataframe thead th {\n",
       "        text-align: right;\n",
       "    }\n",
       "</style>\n",
       "<table border=\"1\" class=\"dataframe\">\n",
       "  <thead>\n",
       "    <tr style=\"text-align: right;\">\n",
       "      <th></th>\n",
       "      <th>시도명</th>\n",
       "      <th>총인구</th>\n",
       "      <th>가구수</th>\n",
       "      <th>여자인구비</th>\n",
       "      <th>외국인비</th>\n",
       "    </tr>\n",
       "  </thead>\n",
       "  <tbody>\n",
       "    <tr>\n",
       "      <th>0</th>\n",
       "      <td>제주</td>\n",
       "      <td>697476</td>\n",
       "      <td>307529</td>\n",
       "      <td>49.701208</td>\n",
       "      <td>2.970281</td>\n",
       "    </tr>\n",
       "    <tr>\n",
       "      <th>1</th>\n",
       "      <td>충남</td>\n",
       "      <td>2181835</td>\n",
       "      <td>1001915</td>\n",
       "      <td>48.647400</td>\n",
       "      <td>2.868136</td>\n",
       "    </tr>\n",
       "    <tr>\n",
       "      <th>2</th>\n",
       "      <td>경기</td>\n",
       "      <td>13925862</td>\n",
       "      <td>5841995</td>\n",
       "      <td>49.458813</td>\n",
       "      <td>2.588077</td>\n",
       "    </tr>\n",
       "    <tr>\n",
       "      <th>3</th>\n",
       "      <td>서울</td>\n",
       "      <td>9736027</td>\n",
       "      <td>4426007</td>\n",
       "      <td>51.499960</td>\n",
       "      <td>2.327120</td>\n",
       "    </tr>\n",
       "    <tr>\n",
       "      <th>4</th>\n",
       "      <td>충북</td>\n",
       "      <td>1633472</td>\n",
       "      <td>760672</td>\n",
       "      <td>49.020063</td>\n",
       "      <td>2.206649</td>\n",
       "    </tr>\n",
       "    <tr>\n",
       "      <th>5</th>\n",
       "      <td>인천</td>\n",
       "      <td>3014739</td>\n",
       "      <td>1298647</td>\n",
       "      <td>49.804046</td>\n",
       "      <td>2.201318</td>\n",
       "    </tr>\n",
       "    <tr>\n",
       "      <th>6</th>\n",
       "      <td>경북</td>\n",
       "      <td>2677709</td>\n",
       "      <td>1276846</td>\n",
       "      <td>49.392260</td>\n",
       "      <td>1.908348</td>\n",
       "    </tr>\n",
       "    <tr>\n",
       "      <th>7</th>\n",
       "      <td>경남</td>\n",
       "      <td>3377331</td>\n",
       "      <td>1505971</td>\n",
       "      <td>49.368629</td>\n",
       "      <td>1.869760</td>\n",
       "    </tr>\n",
       "    <tr>\n",
       "      <th>8</th>\n",
       "      <td>전남</td>\n",
       "      <td>1865459</td>\n",
       "      <td>903108</td>\n",
       "      <td>49.448474</td>\n",
       "      <td>1.750561</td>\n",
       "    </tr>\n",
       "    <tr>\n",
       "      <th>9</th>\n",
       "      <td>전북</td>\n",
       "      <td>1817186</td>\n",
       "      <td>849001</td>\n",
       "      <td>50.160743</td>\n",
       "      <td>1.669119</td>\n",
       "    </tr>\n",
       "    <tr>\n",
       "      <th>10</th>\n",
       "      <td>울산</td>\n",
       "      <td>1138419</td>\n",
       "      <td>482650</td>\n",
       "      <td>48.522381</td>\n",
       "      <td>1.478103</td>\n",
       "    </tr>\n",
       "    <tr>\n",
       "      <th>11</th>\n",
       "      <td>광주</td>\n",
       "      <td>1462545</td>\n",
       "      <td>645712</td>\n",
       "      <td>50.485079</td>\n",
       "      <td>1.431341</td>\n",
       "    </tr>\n",
       "    <tr>\n",
       "      <th>12</th>\n",
       "      <td>부산</td>\n",
       "      <td>3396109</td>\n",
       "      <td>1544663</td>\n",
       "      <td>51.013969</td>\n",
       "      <td>1.346512</td>\n",
       "    </tr>\n",
       "    <tr>\n",
       "      <th>13</th>\n",
       "      <td>세종</td>\n",
       "      <td>376779</td>\n",
       "      <td>153649</td>\n",
       "      <td>49.939089</td>\n",
       "      <td>1.296251</td>\n",
       "    </tr>\n",
       "    <tr>\n",
       "      <th>14</th>\n",
       "      <td>대전</td>\n",
       "      <td>1469543</td>\n",
       "      <td>664417</td>\n",
       "      <td>50.148243</td>\n",
       "      <td>1.176692</td>\n",
       "    </tr>\n",
       "    <tr>\n",
       "      <th>15</th>\n",
       "      <td>대구</td>\n",
       "      <td>2412642</td>\n",
       "      <td>1063893</td>\n",
       "      <td>50.680582</td>\n",
       "      <td>1.128638</td>\n",
       "    </tr>\n",
       "    <tr>\n",
       "      <th>16</th>\n",
       "      <td>강원</td>\n",
       "      <td>1555876</td>\n",
       "      <td>746220</td>\n",
       "      <td>49.626898</td>\n",
       "      <td>1.117313</td>\n",
       "    </tr>\n",
       "  </tbody>\n",
       "</table>\n",
       "</div>"
      ],
      "text/plain": [
       "   시도명       총인구      가구수      여자인구비      외국인비\n",
       "0   제주    697476   307529  49.701208  2.970281\n",
       "1   충남   2181835  1001915  48.647400  2.868136\n",
       "2   경기  13925862  5841995  49.458813  2.588077\n",
       "3   서울   9736027  4426007  51.499960  2.327120\n",
       "4   충북   1633472   760672  49.020063  2.206649\n",
       "5   인천   3014739  1298647  49.804046  2.201318\n",
       "6   경북   2677709  1276846  49.392260  1.908348\n",
       "7   경남   3377331  1505971  49.368629  1.869760\n",
       "8   전남   1865459   903108  49.448474  1.750561\n",
       "9   전북   1817186   849001  50.160743  1.669119\n",
       "10  울산   1138419   482650  48.522381  1.478103\n",
       "11  광주   1462545   645712  50.485079  1.431341\n",
       "12  부산   3396109  1544663  51.013969  1.346512\n",
       "13  세종    376779   153649  49.939089  1.296251\n",
       "14  대전   1469543   664417  50.148243  1.176692\n",
       "15  대구   2412642  1063893  50.680582  1.128638\n",
       "16  강원   1555876   746220  49.626898  1.117313"
      ]
     },
     "execution_count": 5,
     "metadata": {},
     "output_type": "execute_result"
    }
   ],
   "source": [
    "y = x[['시도명', '총인구', '가구수', '여자인구비', '외국인비']]\n",
    "y = y.sort_values('외국인비', ascending=False, ignore_index=True) \n",
    "y  # 데이터프레임 y를 출력"
   ]
  },
  {
   "cell_type": "markdown",
   "id": "f7e17c17-dddb-4dc7-8741-8b383d5b3c77",
   "metadata": {},
   "source": [
    "## 실행결과에 대한 설명"
   ]
  },
  {
   "cell_type": "markdown",
   "id": "5e6f5946-936b-453c-8bc4-c61b5b9f5111",
   "metadata": {},
   "source": []
  },
  {
   "cell_type": "markdown",
   "id": "ee17effb-3dc1-4fe7-a68c-7a1034a3608a",
   "metadata": {},
   "source": [
    "---\n",
    "### [Most Popular Programming Languages]"
   ]
  },
  {
   "cell_type": "markdown",
   "id": "aac0831f-7232-4703-b41b-7c95542b3182",
   "metadata": {},
   "source": [
    "#### 목표: 주어진 자료를 각 조건에 맞게 결과를 출력하기\n",
    "\r\n"
   ]
  },
  {
   "cell_type": "markdown",
   "id": "22bc85c7-7c87-4082-9049-c6e976f8e342",
   "metadata": {},
   "source": [
    "1. 프로그램언어별 전체 조사 기간 동안 평균 스코어를 구하고, 평균 스코어가 높은 순으로 나타내라."
   ]
  },
  {
   "cell_type": "markdown",
   "id": "5c2a56b4-b6a5-4b57-8ae1-ae7ba7820b5a",
   "metadata": {},
   "source": [
    "- 주어진 CSV 파일을 데이터프레임으로 불러오고 melt 함수를 통해 데이터프레임을 long 형식으로 변환합니다.\n",
    "- 그리고 Date 열을 각 행의 기준으로 잡고 원래의 열들을 하나의 Language 열로 모읍니다.\n",
    "- 마지막으로 각 프로그래밍 스코어 값을 Score 열에 저장합니다."
   ]
  },
  {
   "cell_type": "code",
   "execution_count": 6,
   "id": "e7938d1d-665e-403e-843f-6c8d6412a326",
   "metadata": {},
   "outputs": [],
   "source": [
    "mpp = pd.read_csv(\"data/Most_Popular_Programming_Languages.csv\")\n",
    "mpp_m = mpp.melt(id_vars=\"Date\", \n",
    "        var_name=\"Language\", value_name = \"Score\")"
   ]
  },
  {
   "cell_type": "markdown",
   "id": "51148b49-fe9c-45b0-91d8-83ebde1d33f3",
   "metadata": {},
   "source": [
    "- 먼저 Score 열의 데이터들을 숫자형으로 변환해줍니다.   \n",
    "- mpp_m 데이터프레임을 \"Language\" 열을 기준으로 그룹화하여 각 프로그래밍 언어별로 Score 평균 값을 계산하고 avg_mpp에 저장합니다."
   ]
  },
  {
   "cell_type": "code",
   "execution_count": 31,
   "id": "bf39d161-da89-4554-9b23-1301112b7b99",
   "metadata": {},
   "outputs": [
    {
     "ename": "NameError",
     "evalue": "name 'pd' is not defined",
     "output_type": "error",
     "traceback": [
      "\u001b[1;31m---------------------------------------------------------------------------\u001b[0m",
      "\u001b[1;31mNameError\u001b[0m                                 Traceback (most recent call last)",
      "Cell \u001b[1;32mIn[31], line 1\u001b[0m\n\u001b[1;32m----> 1\u001b[0m mpp_m[\u001b[38;5;124m'\u001b[39m\u001b[38;5;124mScore\u001b[39m\u001b[38;5;124m'\u001b[39m] \u001b[38;5;241m=\u001b[39m pd\u001b[38;5;241m.\u001b[39mto_numeric(mpp_m[\u001b[38;5;124m'\u001b[39m\u001b[38;5;124mScore\u001b[39m\u001b[38;5;124m'\u001b[39m], errors\u001b[38;5;241m=\u001b[39m\u001b[38;5;124m'\u001b[39m\u001b[38;5;124mcoerce\u001b[39m\u001b[38;5;124m'\u001b[39m)\n\u001b[0;32m      2\u001b[0m avg_mpp \u001b[38;5;241m=\u001b[39m mpp_m\u001b[38;5;241m.\u001b[39mgroupby(\u001b[38;5;124m\"\u001b[39m\u001b[38;5;124mLanguage\u001b[39m\u001b[38;5;124m\"\u001b[39m)[\u001b[38;5;124m'\u001b[39m\u001b[38;5;124mScore\u001b[39m\u001b[38;5;124m'\u001b[39m]\u001b[38;5;241m.\u001b[39mmean()\u001b[38;5;241m.\u001b[39mreset_index()\n",
      "\u001b[1;31mNameError\u001b[0m: name 'pd' is not defined"
     ]
    }
   ],
   "source": [
    "mpp_m['Score'] = pd.to_numeric(mpp_m['Score'], errors='coerce')\n",
    "avg_mpp = mpp_m.groupby(\"Language\")['Score'].mean().reset_index()"
   ]
  },
  {
   "cell_type": "markdown",
   "id": "bc567f0f-49fe-4c9d-bbb3-88e8bdb32a6f",
   "metadata": {},
   "source": [
    "- 그리고 avg_mpp 데이터프레임에 새로운 열(순위)을 추가하고 내림차순으로 정렬하고 avg_mpp의 데이터 타입을 출력합니다.    \n",
    "- 다시 avg_mpp를 '순위' 열을 기준으로 오름차순 정렬합니다"
   ]
  },
  {
   "cell_type": "code",
   "execution_count": 33,
   "id": "35667134-4e32-4d76-97b2-a7344c67c205",
   "metadata": {},
   "outputs": [
    {
     "ename": "NameError",
     "evalue": "name 'avg_mpp' is not defined",
     "output_type": "error",
     "traceback": [
      "\u001b[1;31m---------------------------------------------------------------------------\u001b[0m",
      "\u001b[1;31mNameError\u001b[0m                                 Traceback (most recent call last)",
      "Cell \u001b[1;32mIn[33], line 1\u001b[0m\n\u001b[1;32m----> 1\u001b[0m avg_mpp[\u001b[38;5;124m'\u001b[39m\u001b[38;5;124m순위\u001b[39m\u001b[38;5;124m'\u001b[39m] \u001b[38;5;241m=\u001b[39m avg_mpp[\u001b[38;5;124m'\u001b[39m\u001b[38;5;124mScore\u001b[39m\u001b[38;5;124m'\u001b[39m]\u001b[38;5;241m.\u001b[39mrank(ascending\u001b[38;5;241m=\u001b[39m\u001b[38;5;28;01mFalse\u001b[39;00m)\n\u001b[0;32m      2\u001b[0m \u001b[38;5;28mprint\u001b[39m(\u001b[38;5;124m'\u001b[39m\u001b[38;5;124mtype= \u001b[39m\u001b[38;5;124m'\u001b[39m, \u001b[38;5;28mtype\u001b[39m(avg_mpp))\n\u001b[0;32m      3\u001b[0m avg_mpp\u001b[38;5;241m.\u001b[39msort_values(\u001b[38;5;124m\"\u001b[39m\u001b[38;5;124m순위\u001b[39m\u001b[38;5;124m\"\u001b[39m, ascending\u001b[38;5;241m=\u001b[39m\u001b[38;5;28;01mTrue\u001b[39;00m)\n",
      "\u001b[1;31mNameError\u001b[0m: name 'avg_mpp' is not defined"
     ]
    }
   ],
   "source": [
    "avg_mpp['순위'] = avg_mpp['Score'].rank(ascending=False)\n",
    "print('type= ', type(avg_mpp))\n",
    "avg_mpp.sort_values(\"순위\", ascending=True)"
   ]
  },
  {
   "cell_type": "markdown",
   "id": "46b03cf8-b1bd-42d7-8543-80dd20274fb3",
   "metadata": {},
   "source": [
    "## 실행결과에 대한 설명"
   ]
  },
  {
   "cell_type": "markdown",
   "id": "db3a58d0-2f43-4a90-9b32-719576f50576",
   "metadata": {},
   "source": []
  },
  {
   "cell_type": "markdown",
   "id": "e620b599-6edf-4b9e-9eda-d201b684cd1b",
   "metadata": {},
   "source": [
    "2. 프로그램언어별 연도별 평균 스코어로 구한 순위를 이용해서 Top 10에 속한 프로그램 언어를 연도별로 보여라."
   ]
  },
  {
   "cell_type": "markdown",
   "id": "26d26326-6dc5-432b-9c60-fb177839047d",
   "metadata": {},
   "source": [
    "- 첫 번째로 pd.to_datetime() 함수에서 format='%B %Y'를 사용하여 날짜 형식을 명시적으로 지정합니다.   \n",
    "- 그 다음 NaN 값 제거 후, groupby()와 mean() 함수를 사용할 때 'Score' 열만 선택하여 평균을 계산합니다.   "
   ]
  },
  {
   "cell_type": "code",
   "execution_count": 44,
   "id": "c4137a63-cc3e-4b5a-8d5f-6f1022ceb33b",
   "metadata": {},
   "outputs": [
    {
     "ename": "NameError",
     "evalue": "name 'pd' is not defined",
     "output_type": "error",
     "traceback": [
      "\u001b[1;31m---------------------------------------------------------------------------\u001b[0m",
      "\u001b[1;31mNameError\u001b[0m                                 Traceback (most recent call last)",
      "Cell \u001b[1;32mIn[44], line 1\u001b[0m\n\u001b[1;32m----> 1\u001b[0m mpp_m[\u001b[38;5;124m'\u001b[39m\u001b[38;5;124mYear\u001b[39m\u001b[38;5;124m'\u001b[39m] \u001b[38;5;241m=\u001b[39m pd\u001b[38;5;241m.\u001b[39mto_datetime(mpp_m[\u001b[38;5;124m'\u001b[39m\u001b[38;5;124mDate\u001b[39m\u001b[38;5;124m'\u001b[39m], \u001b[38;5;28mformat\u001b[39m\u001b[38;5;241m=\u001b[39m\u001b[38;5;124m'\u001b[39m\u001b[38;5;124m%\u001b[39m\u001b[38;5;124mB \u001b[39m\u001b[38;5;124m%\u001b[39m\u001b[38;5;124mY\u001b[39m\u001b[38;5;124m'\u001b[39m)\u001b[38;5;241m.\u001b[39mdt\u001b[38;5;241m.\u001b[39myear\n\u001b[0;32m      2\u001b[0m mpp_m \u001b[38;5;241m=\u001b[39m mpp_m\u001b[38;5;241m.\u001b[39mdropna(subset\u001b[38;5;241m=\u001b[39m[\u001b[38;5;124m'\u001b[39m\u001b[38;5;124mScore\u001b[39m\u001b[38;5;124m'\u001b[39m, \u001b[38;5;124m'\u001b[39m\u001b[38;5;124mYear\u001b[39m\u001b[38;5;124m'\u001b[39m])\n\u001b[0;32m      4\u001b[0m avg_mpp \u001b[38;5;241m=\u001b[39m mpp_m\u001b[38;5;241m.\u001b[39mgroupby([\u001b[38;5;124m\"\u001b[39m\u001b[38;5;124mYear\u001b[39m\u001b[38;5;124m\"\u001b[39m, \u001b[38;5;124m\"\u001b[39m\u001b[38;5;124mLanguage\u001b[39m\u001b[38;5;124m\"\u001b[39m])[\u001b[38;5;124m'\u001b[39m\u001b[38;5;124mScore\u001b[39m\u001b[38;5;124m'\u001b[39m]\u001b[38;5;241m.\u001b[39mmean()\u001b[38;5;241m.\u001b[39mreset_index()\n",
      "\u001b[1;31mNameError\u001b[0m: name 'pd' is not defined"
     ]
    }
   ],
   "source": [
    "mpp_m['Year'] = pd.to_datetime(mpp_m['Date'], format='%B %Y').dt.year\n",
    "mpp_m = mpp_m.dropna(subset=['Score', 'Year'])\n",
    "\n",
    "avg_mpp = mpp_m.groupby([\"Year\", \"Language\"])['Score'].mean().reset_index()"
   ]
  },
  {
   "cell_type": "markdown",
   "id": "97eb5c12-616c-4d26-b87b-75466ab27bc2",
   "metadata": {},
   "source": [
    "- 마지막으로 'Year'를 기준으로 그룹화하여 'Score'를 기준으로 내림차순 순위를 매깁니다. 그 후 '순위'가 10 이하인 데이터만 선택하여 'Year'와 '순위'를 기준으로 오름차순 정렬합니다."
   ]
  },
  {
   "cell_type": "code",
   "execution_count": 47,
   "id": "1af975fd-d128-463a-9c90-9af5364ca455",
   "metadata": {},
   "outputs": [
    {
     "ename": "NameError",
     "evalue": "name 'avg_mpp' is not defined",
     "output_type": "error",
     "traceback": [
      "\u001b[1;31m---------------------------------------------------------------------------\u001b[0m",
      "\u001b[1;31mNameError\u001b[0m                                 Traceback (most recent call last)",
      "Cell \u001b[1;32mIn[47], line 1\u001b[0m\n\u001b[1;32m----> 1\u001b[0m avg_mpp[\u001b[38;5;124m'\u001b[39m\u001b[38;5;124m순위\u001b[39m\u001b[38;5;124m'\u001b[39m] \u001b[38;5;241m=\u001b[39m avg_mpp\u001b[38;5;241m.\u001b[39mgroupby(\u001b[38;5;124m\"\u001b[39m\u001b[38;5;124mYear\u001b[39m\u001b[38;5;124m\"\u001b[39m)[\u001b[38;5;124m'\u001b[39m\u001b[38;5;124mScore\u001b[39m\u001b[38;5;124m'\u001b[39m]\u001b[38;5;241m.\u001b[39mrank(method\u001b[38;5;241m=\u001b[39m\u001b[38;5;124m'\u001b[39m\u001b[38;5;124mmin\u001b[39m\u001b[38;5;124m'\u001b[39m, ascending\u001b[38;5;241m=\u001b[39m\u001b[38;5;28;01mFalse\u001b[39;00m)\n\u001b[0;32m      2\u001b[0m top10 \u001b[38;5;241m=\u001b[39m avg_mpp[avg_mpp[\u001b[38;5;124m'\u001b[39m\u001b[38;5;124m순위\u001b[39m\u001b[38;5;124m'\u001b[39m] \u001b[38;5;241m<\u001b[39m\u001b[38;5;241m=\u001b[39m \u001b[38;5;241m10\u001b[39m]\u001b[38;5;241m.\u001b[39msort_values([\u001b[38;5;124m'\u001b[39m\u001b[38;5;124mYear\u001b[39m\u001b[38;5;124m'\u001b[39m, \u001b[38;5;124m\"\u001b[39m\u001b[38;5;124m순위\u001b[39m\u001b[38;5;124m\"\u001b[39m], ascending\u001b[38;5;241m=\u001b[39m[\u001b[38;5;28;01mTrue\u001b[39;00m, \u001b[38;5;28;01mTrue\u001b[39;00m])\n\u001b[0;32m      3\u001b[0m top10\n",
      "\u001b[1;31mNameError\u001b[0m: name 'avg_mpp' is not defined"
     ]
    }
   ],
   "source": [
    "avg_mpp['순위'] = avg_mpp.groupby(\"Year\")['Score'].rank(method='min', ascending=False)\n",
    "top10 = avg_mpp[avg_mpp['순위'] <= 10].sort_values(['Year', \"순위\"], ascending=[True, True])\n",
    "top10"
   ]
  },
  {
   "cell_type": "markdown",
   "id": "4c8eafdb-bb8c-4bcc-a5e8-0e053c37604d",
   "metadata": {},
   "source": [
    "## 실행결과에 대한 설명"
   ]
  },
  {
   "cell_type": "code",
   "execution_count": null,
   "id": "b8d352e5-d447-4f4e-af9d-8ede445b7584",
   "metadata": {},
   "outputs": [],
   "source": []
  },
  {
   "cell_type": "markdown",
   "id": "fb144673-65c2-49be-9044-faaaeb30b535",
   "metadata": {},
   "source": [
    "3. 2022년 상위 Top 10에 속한 프로그램 언어의 연도별 순위를 보여라."
   ]
  },
  {
   "cell_type": "markdown",
   "id": "4bf46db4-2edb-46e4-a672-7e7199f3af64",
   "metadata": {},
   "source": [
    "아래 코드는 2022년의 Top 10 프로그래밍 언어 순위를 보여줍니다."
   ]
  },
  {
   "cell_type": "code",
   "execution_count": 9,
   "id": "b78fec4a-e40e-4cda-a530-f6bfce127460",
   "metadata": {},
   "outputs": [
    {
     "name": "stdout",
     "output_type": "stream",
     "text": [
      "     Year     Language  Score    순위\n",
      "523  2022       Python  28.74   1.0\n",
      "514  2022         Java  18.01   2.0\n",
      "515  2022   JavaScript   9.07   3.0\n",
      "507  2022        C/C++   7.40   4.0\n",
      "506  2022           C#   7.27   5.0\n",
      "521  2022          PHP   6.06   6.0\n",
      "524  2022            R   4.19   7.0\n",
      "520  2022  Objective-C   2.27   8.0\n",
      "528  2022        Swift   1.91   9.0\n",
      "519  2022       Matlab   1.74  10.0\n",
      "529  2022   TypeScript   1.74  10.0\n"
     ]
    }
   ],
   "source": [
    "result = avg_mpp[(avg_mpp['Year'] == 2022) & (avg_mpp['순위'] <= 10)]\n",
    "\n",
    "print(result.sort_values('순위'))"
   ]
  },
  {
   "cell_type": "markdown",
   "id": "a1591fde-fad4-4b8b-9bec-11755546ad36",
   "metadata": {},
   "source": [
    "- 먼저 avg_mpp 데이터프레임에서 'Year'가 2022년인 행 중 순위가 1위부터 10위까지인 언어들을 추출하여 저장합니다.   \n",
    "- avg_mpp에서 'Language'가 result에 속한 행들만 선택하고 해당 언어들의 모든 연도별 순위 데이터를 가져옵니다.    \n",
    "- 그 후 'Language'와 'Year'를 기준으로 데이터를 오름차순 정렬하고 원하는 열만 선택하여 출력합니다."
   ]
  },
  {
   "cell_type": "code",
   "execution_count": 49,
   "id": "c16edf98-22de-417e-b3bc-72dc842c40f5",
   "metadata": {},
   "outputs": [
    {
     "ename": "NameError",
     "evalue": "name 'avg_mpp' is not defined",
     "output_type": "error",
     "traceback": [
      "\u001b[1;31m---------------------------------------------------------------------------\u001b[0m",
      "\u001b[1;31mNameError\u001b[0m                                 Traceback (most recent call last)",
      "Cell \u001b[1;32mIn[49], line 1\u001b[0m\n\u001b[1;32m----> 1\u001b[0m top \u001b[38;5;241m=\u001b[39m avg_mpp[avg_mpp[\u001b[38;5;124m'\u001b[39m\u001b[38;5;124mYear\u001b[39m\u001b[38;5;124m'\u001b[39m] \u001b[38;5;241m==\u001b[39m \u001b[38;5;241m2022\u001b[39m]\u001b[38;5;241m.\u001b[39mnsmallest(\u001b[38;5;241m10\u001b[39m, \u001b[38;5;124m'\u001b[39m\u001b[38;5;124m순위\u001b[39m\u001b[38;5;124m'\u001b[39m)\n\u001b[0;32m      2\u001b[0m result \u001b[38;5;241m=\u001b[39m top[\u001b[38;5;124m'\u001b[39m\u001b[38;5;124mLanguage\u001b[39m\u001b[38;5;124m'\u001b[39m]\u001b[38;5;241m.\u001b[39munique()\n\u001b[0;32m      4\u001b[0m top_ranking \u001b[38;5;241m=\u001b[39m avg_mpp[avg_mpp[\u001b[38;5;124m'\u001b[39m\u001b[38;5;124mLanguage\u001b[39m\u001b[38;5;124m'\u001b[39m]\u001b[38;5;241m.\u001b[39misin(result)]\n",
      "\u001b[1;31mNameError\u001b[0m: name 'avg_mpp' is not defined"
     ]
    }
   ],
   "source": [
    "top = avg_mpp[avg_mpp['Year'] == 2022].nsmallest(10, '순위')\n",
    "result = top['Language'].unique()\n",
    "\n",
    "top_ranking = avg_mpp[avg_mpp['Language'].isin(result)]\n",
    "\n",
    "top_ranking = top_ranking.sort_values(['Language', 'Year'])\n",
    "print(top_ranking[['Year', 'Language', '순위']])"
   ]
  },
  {
   "cell_type": "markdown",
   "id": "28e1bc9d-f4da-4e91-a4ab-64dba1aa4e4e",
   "metadata": {},
   "source": [
    "## 실행결과에 대한 설명"
   ]
  },
  {
   "cell_type": "markdown",
   "id": "c8e5eb9f-7713-4910-9181-a4dc82e4d1f7",
   "metadata": {},
   "source": []
  },
  {
   "cell_type": "markdown",
   "id": "1a4b497f-9611-4dfe-8567-6a2a5cb86d6c",
   "metadata": {},
   "source": [
    "---\n",
    "### [시군구별 음식점 데이터]\n",
    "\n",
    "#### 목표: 주어진 자료를 각 조건에 맞게 결과를 출력하기"
   ]
  },
  {
   "cell_type": "markdown",
   "id": "51afe619-4ced-4841-84f6-e52475d79bfc",
   "metadata": {},
   "source": [
    "1. 일반음식점 데이터에서 컬럼 개방자치단체코드와 자치단체코드 데이터의 시군구(자치단체)코드를 연결하여 음식점 소재지인 시군구 컬럼을 추가하라.\r\n"
   ]
  },
  {
   "cell_type": "markdown",
   "id": "48e339a1-cffc-416c-88a2-b97a1e217147",
   "metadata": {},
   "source": [
    "- local에서 '시군구(자치단체)코드'와 '시군구명' 두 열만 남깁니다. 여기서 '시군구(자치단체)코드'라는 긴 이름을 '자치단체코드'로 수정해줍니다."
   ]
  },
  {
   "cell_type": "code",
   "execution_count": 53,
   "id": "b92755b0-91ad-4a01-8b7a-121ae28383fa",
   "metadata": {},
   "outputs": [
    {
     "ename": "NameError",
     "evalue": "name 'pd' is not defined",
     "output_type": "error",
     "traceback": [
      "\u001b[1;31m---------------------------------------------------------------------------\u001b[0m",
      "\u001b[1;31mNameError\u001b[0m                                 Traceback (most recent call last)",
      "Cell \u001b[1;32mIn[53], line 1\u001b[0m\n\u001b[1;32m----> 1\u001b[0m restaurant \u001b[38;5;241m=\u001b[39m pd\u001b[38;5;241m.\u001b[39mread_csv(\u001b[38;5;124m'\u001b[39m\u001b[38;5;124mdata/일반음식점.csv\u001b[39m\u001b[38;5;124m'\u001b[39m, encoding\u001b[38;5;241m=\u001b[39m\u001b[38;5;124m'\u001b[39m\u001b[38;5;124mcp949\u001b[39m\u001b[38;5;124m'\u001b[39m, low_memory\u001b[38;5;241m=\u001b[39m\u001b[38;5;28;01mFalse\u001b[39;00m)\n\u001b[0;32m      2\u001b[0m local \u001b[38;5;241m=\u001b[39m pd\u001b[38;5;241m.\u001b[39mread_excel(\u001b[38;5;124m'\u001b[39m\u001b[38;5;124mdata/자치단체코드.xlsx\u001b[39m\u001b[38;5;124m'\u001b[39m)\n\u001b[0;32m      4\u001b[0m local \u001b[38;5;241m=\u001b[39m local[[\u001b[38;5;124m'\u001b[39m\u001b[38;5;124m시군구(자치단체)코드\u001b[39m\u001b[38;5;124m'\u001b[39m, \u001b[38;5;124m'\u001b[39m\u001b[38;5;124m시군구명\u001b[39m\u001b[38;5;124m'\u001b[39m]]\n",
      "\u001b[1;31mNameError\u001b[0m: name 'pd' is not defined"
     ]
    }
   ],
   "source": [
    "restaurant = pd.read_csv('data/일반음식점.csv', encoding='cp949', low_memory=False)\n",
    "local = pd.read_excel('data/자치단체코드.xlsx')\n",
    "\n",
    "local = local[['시군구(자치단체)코드', '시군구명']]\n",
    "local = local.rename(columns={'시군구(자치단체)코드': '자치단체코드'})"
   ]
  },
  {
   "cell_type": "markdown",
   "id": "3e25443f-76c6-46ff-9be6-db5cd4872f97",
   "metadata": {},
   "source": [
    "- 그리고 restaurant의 '개방자치단체코드'와 local의 '자치단체코드'를 기준으로 데이터를 합칩니다. how='left'를 통해 restaurant의 모든 행을 남기면서 필요한 정보를 추가합니다.   \n",
    "- 마지막으로 병합된 데이터에서 local에서 가져온 '시군구명' 열의 이름을 '시군구'로 변경하고 출력합니다."
   ]
  },
  {
   "cell_type": "code",
   "execution_count": 55,
   "id": "458b568f-8d78-462a-a810-46c34c6fdbc5",
   "metadata": {},
   "outputs": [
    {
     "ename": "NameError",
     "evalue": "name 'pd' is not defined",
     "output_type": "error",
     "traceback": [
      "\u001b[1;31m---------------------------------------------------------------------------\u001b[0m",
      "\u001b[1;31mNameError\u001b[0m                                 Traceback (most recent call last)",
      "Cell \u001b[1;32mIn[55], line 1\u001b[0m\n\u001b[1;32m----> 1\u001b[0m merged_data \u001b[38;5;241m=\u001b[39m pd\u001b[38;5;241m.\u001b[39mmerge(\n\u001b[0;32m      2\u001b[0m     restaurant,\n\u001b[0;32m      3\u001b[0m     local,\n\u001b[0;32m      4\u001b[0m     left_on\u001b[38;5;241m=\u001b[39m\u001b[38;5;124m'\u001b[39m\u001b[38;5;124m개방자치단체코드\u001b[39m\u001b[38;5;124m'\u001b[39m,\n\u001b[0;32m      5\u001b[0m     right_on\u001b[38;5;241m=\u001b[39m\u001b[38;5;124m'\u001b[39m\u001b[38;5;124m자치단체코드\u001b[39m\u001b[38;5;124m'\u001b[39m,\n\u001b[0;32m      6\u001b[0m     how\u001b[38;5;241m=\u001b[39m\u001b[38;5;124m'\u001b[39m\u001b[38;5;124mleft\u001b[39m\u001b[38;5;124m'\u001b[39m\n\u001b[0;32m      7\u001b[0m )\n\u001b[0;32m      9\u001b[0m merged_data \u001b[38;5;241m=\u001b[39m merged_data\u001b[38;5;241m.\u001b[39mrename(columns\u001b[38;5;241m=\u001b[39m{\u001b[38;5;124m'\u001b[39m\u001b[38;5;124m시군구명\u001b[39m\u001b[38;5;124m'\u001b[39m: \u001b[38;5;124m'\u001b[39m\u001b[38;5;124m시군구\u001b[39m\u001b[38;5;124m'\u001b[39m})\n\u001b[0;32m     10\u001b[0m merged_data\u001b[38;5;241m.\u001b[39mhead()\n",
      "\u001b[1;31mNameError\u001b[0m: name 'pd' is not defined"
     ]
    }
   ],
   "source": [
    "merged_data = pd.merge(\n",
    "    restaurant,\n",
    "    local,\n",
    "    left_on='개방자치단체코드',\n",
    "    right_on='자치단체코드',\n",
    "    how='left'\n",
    ")\n",
    "\n",
    "merged_data = merged_data.rename(columns={'시군구명': '시군구'})\n",
    "merged_data.head()"
   ]
  },
  {
   "cell_type": "markdown",
   "id": "05c30963-cf5b-49da-aa8a-79c055e9ac83",
   "metadata": {},
   "source": [
    "## 실행결과에 대한 설명"
   ]
  },
  {
   "cell_type": "markdown",
   "id": "9cd1a8ad-4bf8-4697-9828-3120fe487539",
   "metadata": {},
   "source": []
  },
  {
   "cell_type": "markdown",
   "id": "cee6d611-3cf8-44db-8b72-4f3ccfe9499d",
   "metadata": {},
   "source": [
    "2. 전국 지자체(시군구)별 음식점의 수를 구하라.\r\n"
   ]
  },
  {
   "cell_type": "markdown",
   "id": "547f5470-65ff-4ebc-811a-40c169222ca2",
   "metadata": {},
   "source": [
    "- '시군구'를 기준으로 데이터를 그룹화하여, 동일한 '시군구' 값을 가진 음식점들을 하나의 그룹으로 묶습니다.\n",
    "- size() 함수를 통해 각 그룹(시군구)마다 몇 개의 음식점이 있는지 개수를 셉니다. 그 결과를 데이터프레임으로 변환하면서, 열 이름을 \"음식점 수\"로 변환합니다."
   ]
  },
  {
   "cell_type": "code",
   "execution_count": 12,
   "id": "69568876-c0a7-486d-b94b-40bc69cf7cf2",
   "metadata": {},
   "outputs": [
    {
     "data": {
      "text/html": [
       "<div>\n",
       "<style scoped>\n",
       "    .dataframe tbody tr th:only-of-type {\n",
       "        vertical-align: middle;\n",
       "    }\n",
       "\n",
       "    .dataframe tbody tr th {\n",
       "        vertical-align: top;\n",
       "    }\n",
       "\n",
       "    .dataframe thead th {\n",
       "        text-align: right;\n",
       "    }\n",
       "</style>\n",
       "<table border=\"1\" class=\"dataframe\">\n",
       "  <thead>\n",
       "    <tr style=\"text-align: right;\">\n",
       "      <th></th>\n",
       "      <th>시군구</th>\n",
       "      <th>음식점 수</th>\n",
       "    </tr>\n",
       "  </thead>\n",
       "  <tbody>\n",
       "    <tr>\n",
       "      <th>0</th>\n",
       "      <td>가평군</td>\n",
       "      <td>3747</td>\n",
       "    </tr>\n",
       "    <tr>\n",
       "      <th>1</th>\n",
       "      <td>강남구</td>\n",
       "      <td>44934</td>\n",
       "    </tr>\n",
       "    <tr>\n",
       "      <th>2</th>\n",
       "      <td>강동구</td>\n",
       "      <td>21382</td>\n",
       "    </tr>\n",
       "    <tr>\n",
       "      <th>3</th>\n",
       "      <td>강릉시</td>\n",
       "      <td>13229</td>\n",
       "    </tr>\n",
       "    <tr>\n",
       "      <th>4</th>\n",
       "      <td>강북구</td>\n",
       "      <td>15589</td>\n",
       "    </tr>\n",
       "  </tbody>\n",
       "</table>\n",
       "</div>"
      ],
      "text/plain": [
       "   시군구  음식점 수\n",
       "0  가평군   3747\n",
       "1  강남구  44934\n",
       "2  강동구  21382\n",
       "3  강릉시  13229\n",
       "4  강북구  15589"
      ]
     },
     "execution_count": 12,
     "metadata": {},
     "output_type": "execute_result"
    }
   ],
   "source": [
    "restaurant_count = merged_data.groupby('시군구').size().reset_index(name='음식점 수')\n",
    "\n",
    "restaurant_count.head()"
   ]
  },
  {
   "cell_type": "markdown",
   "id": "428eebeb-96fd-469f-a1a2-28e0baddf231",
   "metadata": {},
   "source": [
    "## 실행결과에 대한 설명"
   ]
  },
  {
   "cell_type": "markdown",
   "id": "01270bb4-46b3-49d1-bf4e-bf669f1ddc97",
   "metadata": {},
   "source": []
  },
  {
   "cell_type": "markdown",
   "id": "46e62ca2-5c74-4183-8f33-a8b27d7da145",
   "metadata": {},
   "source": [
    "3. 전국 지자체(시군구)별 음식점의 수를 폐업 또는 영업중을 구분하여 구하라.\r\n"
   ]
  },
  {
   "cell_type": "markdown",
   "id": "26f4f86e-f996-4875-b105-787c8b944608",
   "metadata": {},
   "source": [
    "- ['시군구', '영업상태명']로 그룹화하여, 각 시군구와 영업상태로 나뉜 음식점 수를 셉니다.\n",
    "- 그룹화 결과를 데이터프레임으로 변환하고, 열의 이름을 '음식점 수'로 지정합니다."
   ]
  },
  {
   "cell_type": "code",
   "execution_count": 13,
   "id": "c7bf26c1-e95b-4aa2-9540-31dbd37cdfb2",
   "metadata": {},
   "outputs": [
    {
     "data": {
      "text/html": [
       "<div>\n",
       "<style scoped>\n",
       "    .dataframe tbody tr th:only-of-type {\n",
       "        vertical-align: middle;\n",
       "    }\n",
       "\n",
       "    .dataframe tbody tr th {\n",
       "        vertical-align: top;\n",
       "    }\n",
       "\n",
       "    .dataframe thead th {\n",
       "        text-align: right;\n",
       "    }\n",
       "</style>\n",
       "<table border=\"1\" class=\"dataframe\">\n",
       "  <thead>\n",
       "    <tr style=\"text-align: right;\">\n",
       "      <th></th>\n",
       "      <th>시군구</th>\n",
       "      <th>영업상태명</th>\n",
       "      <th>음식점 수</th>\n",
       "    </tr>\n",
       "  </thead>\n",
       "  <tbody>\n",
       "    <tr>\n",
       "      <th>0</th>\n",
       "      <td>가평군</td>\n",
       "      <td>영업/정상</td>\n",
       "      <td>1719</td>\n",
       "    </tr>\n",
       "    <tr>\n",
       "      <th>1</th>\n",
       "      <td>가평군</td>\n",
       "      <td>폐업</td>\n",
       "      <td>2028</td>\n",
       "    </tr>\n",
       "    <tr>\n",
       "      <th>2</th>\n",
       "      <td>강남구</td>\n",
       "      <td>영업/정상</td>\n",
       "      <td>12367</td>\n",
       "    </tr>\n",
       "    <tr>\n",
       "      <th>3</th>\n",
       "      <td>강남구</td>\n",
       "      <td>폐업</td>\n",
       "      <td>32567</td>\n",
       "    </tr>\n",
       "    <tr>\n",
       "      <th>4</th>\n",
       "      <td>강동구</td>\n",
       "      <td>영업/정상</td>\n",
       "      <td>4079</td>\n",
       "    </tr>\n",
       "  </tbody>\n",
       "</table>\n",
       "</div>"
      ],
      "text/plain": [
       "   시군구  영업상태명  음식점 수\n",
       "0  가평군  영업/정상   1719\n",
       "1  가평군     폐업   2028\n",
       "2  강남구  영업/정상  12367\n",
       "3  강남구     폐업  32567\n",
       "4  강동구  영업/정상   4079"
      ]
     },
     "execution_count": 13,
     "metadata": {},
     "output_type": "execute_result"
    }
   ],
   "source": [
    "restaurant_status = merged_data.groupby(['시군구', '영업상태명']).size().reset_index(name='음식점 수')\n",
    "\n",
    "restaurant_status.head()"
   ]
  },
  {
   "cell_type": "markdown",
   "id": "407a496c-f63c-4967-a4ec-20f6d3dd0d53",
   "metadata": {},
   "source": [
    "## 실행결과에 대한 설명"
   ]
  },
  {
   "cell_type": "markdown",
   "id": "adb1e560-9af3-4bf3-aa5c-0b97fd3f6d33",
   "metadata": {},
   "source": []
  },
  {
   "cell_type": "markdown",
   "id": "22a66bb4-3d18-43d8-a5e2-fdd89d0ef8fb",
   "metadata": {},
   "source": [
    "4. 위 데이터에서 경북에 소재한 음식점 중에서 현재 시군구별로 영업중인 음식점의 수를 구하라.\r\n"
   ]
  },
  {
   "cell_type": "markdown",
   "id": "893b9c35-adb9-4307-845a-234148a424b6",
   "metadata": {},
   "source": [
    "- merged_data에서 개방자치단체코드가 gyungbuk_codes에 포함된 행만 선택합니다.\n",
    "- filter 데이터프레임에서 '영업상태명'이 '영업/정상'인 행만 선택합니다.\n",
    "- result 데이터프레임을 '시군구'별로 그룹화하여 각 시군구에 속한 음식점의 개수를 세고 새로운 열로 지정합니다."
   ]
  },
  {
   "cell_type": "code",
   "execution_count": 57,
   "id": "6011ffca-6f1d-4a0f-a5f5-755dabb8a994",
   "metadata": {},
   "outputs": [
    {
     "ename": "NameError",
     "evalue": "name 'merged_data' is not defined",
     "output_type": "error",
     "traceback": [
      "\u001b[1;31m---------------------------------------------------------------------------\u001b[0m",
      "\u001b[1;31mNameError\u001b[0m                                 Traceback (most recent call last)",
      "Cell \u001b[1;32mIn[57], line 2\u001b[0m\n\u001b[0;32m      1\u001b[0m gyungbuk_regions \u001b[38;5;241m=\u001b[39m [\u001b[38;5;124m'\u001b[39m\u001b[38;5;124m포항시\u001b[39m\u001b[38;5;124m'\u001b[39m, \u001b[38;5;124m'\u001b[39m\u001b[38;5;124m경주시\u001b[39m\u001b[38;5;124m'\u001b[39m, \u001b[38;5;124m'\u001b[39m\u001b[38;5;124m김천시\u001b[39m\u001b[38;5;124m'\u001b[39m, \u001b[38;5;124m'\u001b[39m\u001b[38;5;124m안동시\u001b[39m\u001b[38;5;124m'\u001b[39m, \u001b[38;5;124m'\u001b[39m\u001b[38;5;124m구미시\u001b[39m\u001b[38;5;124m'\u001b[39m, \u001b[38;5;124m'\u001b[39m\u001b[38;5;124m영주시\u001b[39m\u001b[38;5;124m'\u001b[39m, \u001b[38;5;124m'\u001b[39m\u001b[38;5;124m영천시\u001b[39m\u001b[38;5;124m'\u001b[39m, \u001b[38;5;124m'\u001b[39m\u001b[38;5;124m상주시\u001b[39m\u001b[38;5;124m'\u001b[39m, \u001b[38;5;124m'\u001b[39m\u001b[38;5;124m문경시\u001b[39m\u001b[38;5;124m'\u001b[39m, \u001b[38;5;124m'\u001b[39m\u001b[38;5;124m경산시\u001b[39m\u001b[38;5;124m'\u001b[39m, \u001b[38;5;124m'\u001b[39m\u001b[38;5;124m군위군\u001b[39m\u001b[38;5;124m'\u001b[39m, \u001b[38;5;124m'\u001b[39m\u001b[38;5;124m의성군\u001b[39m\u001b[38;5;124m'\u001b[39m, \u001b[38;5;124m'\u001b[39m\u001b[38;5;124m청송군\u001b[39m\u001b[38;5;124m'\u001b[39m, \u001b[38;5;124m'\u001b[39m\u001b[38;5;124m영양군\u001b[39m\u001b[38;5;124m'\u001b[39m, \u001b[38;5;124m'\u001b[39m\u001b[38;5;124m영덕군\u001b[39m\u001b[38;5;124m'\u001b[39m, \u001b[38;5;124m'\u001b[39m\u001b[38;5;124m청도군\u001b[39m\u001b[38;5;124m'\u001b[39m, \u001b[38;5;124m'\u001b[39m\u001b[38;5;124m고령군\u001b[39m\u001b[38;5;124m'\u001b[39m, \u001b[38;5;124m'\u001b[39m\u001b[38;5;124m성주군\u001b[39m\u001b[38;5;124m'\u001b[39m, \u001b[38;5;124m'\u001b[39m\u001b[38;5;124m칠곡군\u001b[39m\u001b[38;5;124m'\u001b[39m, \u001b[38;5;124m'\u001b[39m\u001b[38;5;124m예천군\u001b[39m\u001b[38;5;124m'\u001b[39m, \u001b[38;5;124m'\u001b[39m\u001b[38;5;124m봉화군\u001b[39m\u001b[38;5;124m'\u001b[39m, \u001b[38;5;124m'\u001b[39m\u001b[38;5;124m울진군\u001b[39m\u001b[38;5;124m'\u001b[39m, \u001b[38;5;124m'\u001b[39m\u001b[38;5;124m울릉군\u001b[39m\u001b[38;5;124m'\u001b[39m]\n\u001b[1;32m----> 2\u001b[0m gyungbuk_codes \u001b[38;5;241m=\u001b[39m merged_data[merged_data[\u001b[38;5;124m'\u001b[39m\u001b[38;5;124m시군구\u001b[39m\u001b[38;5;124m'\u001b[39m]\u001b[38;5;241m.\u001b[39misin(gyungbuk_regions)][\u001b[38;5;124m'\u001b[39m\u001b[38;5;124m자치단체코드\u001b[39m\u001b[38;5;124m'\u001b[39m]\u001b[38;5;241m.\u001b[39munique()\n\u001b[0;32m      5\u001b[0m \u001b[38;5;28mfilter\u001b[39m \u001b[38;5;241m=\u001b[39m merged_data[merged_data[\u001b[38;5;124m'\u001b[39m\u001b[38;5;124m개방자치단체코드\u001b[39m\u001b[38;5;124m'\u001b[39m]\u001b[38;5;241m.\u001b[39misin(gyungbuk_codes)]\n\u001b[0;32m      6\u001b[0m result \u001b[38;5;241m=\u001b[39m \u001b[38;5;28mfilter\u001b[39m[\u001b[38;5;28mfilter\u001b[39m[\u001b[38;5;124m'\u001b[39m\u001b[38;5;124m영업상태명\u001b[39m\u001b[38;5;124m'\u001b[39m] \u001b[38;5;241m==\u001b[39m \u001b[38;5;124m'\u001b[39m\u001b[38;5;124m영업/정상\u001b[39m\u001b[38;5;124m'\u001b[39m]\n",
      "\u001b[1;31mNameError\u001b[0m: name 'merged_data' is not defined"
     ]
    }
   ],
   "source": [
    "gyungbuk_regions = ['포항시', '경주시', '김천시', '안동시', '구미시', '영주시', '영천시', '상주시', '문경시', '경산시', '군위군', '의성군', '청송군', '영양군', '영덕군', '청도군', '고령군', '성주군', '칠곡군', '예천군', '봉화군', '울진군', '울릉군']\n",
    "gyungbuk_codes = merged_data[merged_data['시군구'].isin(gyungbuk_regions)]['자치단체코드'].unique()\n",
    "\n",
    "\n",
    "filter = merged_data[merged_data['개방자치단체코드'].isin(gyungbuk_codes)]\n",
    "result = filter[filter['영업상태명'] == '영업/정상']\n",
    "\n",
    "restaurant_count = result.groupby('시군구').size().reset_index(name='영업중인 음식점 수')\n",
    "restaurant_count"
   ]
  },
  {
   "cell_type": "markdown",
   "id": "d9e7dc84-63ad-425b-ac34-64d2f763a6d0",
   "metadata": {},
   "source": [
    "## 실행결과에 대한 설명"
   ]
  },
  {
   "cell_type": "markdown",
   "id": "dd6d4da6-cc2c-48e8-b6de-0937e210b0cc",
   "metadata": {},
   "source": []
  },
  {
   "cell_type": "markdown",
   "id": "a64d619e-bb5e-41a2-b7fe-a637d76066cb",
   "metadata": {},
   "source": [
    "5. 전체 음식점 중 폐업비율을 구하고 크기순으로 나타내어라."
   ]
  },
  {
   "cell_type": "markdown",
   "id": "07c41646-5bd1-4023-bc2d-4ac70ce35228",
   "metadata": {},
   "source": [
    "- 모든 시군구별로 전체 음식점의 수를 계산하여 데이터프레임에 저장합니다.\n",
    "- '폐업'인 음식점만 필터링하여 시군구별로 폐업한 음식점 수를 계산하고, 데이터프레임에 저장합니다."
   ]
  },
  {
   "cell_type": "code",
   "execution_count": 65,
   "id": "38b262b0-60ba-41b5-b9b4-502552fe4fd7",
   "metadata": {},
   "outputs": [
    {
     "ename": "NameError",
     "evalue": "name 'merged_data' is not defined",
     "output_type": "error",
     "traceback": [
      "\u001b[1;31m---------------------------------------------------------------------------\u001b[0m",
      "\u001b[1;31mNameError\u001b[0m                                 Traceback (most recent call last)",
      "Cell \u001b[1;32mIn[65], line 1\u001b[0m\n\u001b[1;32m----> 1\u001b[0m total \u001b[38;5;241m=\u001b[39m merged_data\u001b[38;5;241m.\u001b[39mgroupby(\u001b[38;5;124m'\u001b[39m\u001b[38;5;124m시군구\u001b[39m\u001b[38;5;124m'\u001b[39m)\u001b[38;5;241m.\u001b[39msize()\u001b[38;5;241m.\u001b[39mreset_index(name\u001b[38;5;241m=\u001b[39m\u001b[38;5;124m'\u001b[39m\u001b[38;5;124m전체 음식점 수\u001b[39m\u001b[38;5;124m'\u001b[39m)\n\u001b[0;32m      2\u001b[0m closed \u001b[38;5;241m=\u001b[39m merged_data[merged_data[\u001b[38;5;124m'\u001b[39m\u001b[38;5;124m영업상태명\u001b[39m\u001b[38;5;124m'\u001b[39m] \u001b[38;5;241m==\u001b[39m \u001b[38;5;124m'\u001b[39m\u001b[38;5;124m폐업\u001b[39m\u001b[38;5;124m'\u001b[39m]\u001b[38;5;241m.\u001b[39mgroupby(\u001b[38;5;124m'\u001b[39m\u001b[38;5;124m시군구\u001b[39m\u001b[38;5;124m'\u001b[39m)\u001b[38;5;241m.\u001b[39msize()\u001b[38;5;241m.\u001b[39mreset_index(name\u001b[38;5;241m=\u001b[39m\u001b[38;5;124m'\u001b[39m\u001b[38;5;124m폐업 음식점 수\u001b[39m\u001b[38;5;124m'\u001b[39m)\n",
      "\u001b[1;31mNameError\u001b[0m: name 'merged_data' is not defined"
     ]
    }
   ],
   "source": [
    "total = merged_data.groupby('시군구').size().reset_index(name='전체 음식점 수')\n",
    "closed = merged_data[merged_data['영업상태명'] == '폐업'].groupby('시군구').size().reset_index(name='폐업 음식점 수')"
   ]
  },
  {
   "cell_type": "markdown",
   "id": "30c1fecf-0825-47e1-bc88-c36c9651561e",
   "metadata": {},
   "source": [
    "- 앞의 데이터들을 '시군구'를 기준으로 병합하여 데이터프레임에 저장합니다. 이때 how='left'를 사용하여 전체 음식점 수가 있는 시군구를 모두 포함합니다.\n",
    "- '폐업 음식점 수'를 '전체 음식점 수'로 나누어 폐업 비율을 계산하고, 이를 퍼센트로 변환하여 '폐업 비율'이라는 새로운 열로 추가합니다.\n",
    "- 폐업한 음식점이 없는 경우(NaN 값)를 0으로 대체하여 데이터프레임을 정리합니다."
   ]
  },
  {
   "cell_type": "code",
   "execution_count": 68,
   "id": "de89781d-558a-4299-b569-72ee0331fc4d",
   "metadata": {},
   "outputs": [
    {
     "ename": "NameError",
     "evalue": "name 'pd' is not defined",
     "output_type": "error",
     "traceback": [
      "\u001b[1;31m---------------------------------------------------------------------------\u001b[0m",
      "\u001b[1;31mNameError\u001b[0m                                 Traceback (most recent call last)",
      "Cell \u001b[1;32mIn[68], line 1\u001b[0m\n\u001b[1;32m----> 1\u001b[0m merged_counts \u001b[38;5;241m=\u001b[39m pd\u001b[38;5;241m.\u001b[39mmerge(total, closed, on\u001b[38;5;241m=\u001b[39m\u001b[38;5;124m'\u001b[39m\u001b[38;5;124m시군구\u001b[39m\u001b[38;5;124m'\u001b[39m, how\u001b[38;5;241m=\u001b[39m\u001b[38;5;124m'\u001b[39m\u001b[38;5;124mleft\u001b[39m\u001b[38;5;124m'\u001b[39m)\n\u001b[0;32m      2\u001b[0m merged_counts[\u001b[38;5;124m'\u001b[39m\u001b[38;5;124m폐업 비율\u001b[39m\u001b[38;5;124m'\u001b[39m] \u001b[38;5;241m=\u001b[39m (merged_counts[\u001b[38;5;124m'\u001b[39m\u001b[38;5;124m폐업 음식점 수\u001b[39m\u001b[38;5;124m'\u001b[39m] \u001b[38;5;241m/\u001b[39m merged_counts[\u001b[38;5;124m'\u001b[39m\u001b[38;5;124m전체 음식점 수\u001b[39m\u001b[38;5;124m'\u001b[39m]) \u001b[38;5;241m*\u001b[39m \u001b[38;5;241m100\u001b[39m\n\u001b[0;32m      4\u001b[0m merged_counts[\u001b[38;5;124m'\u001b[39m\u001b[38;5;124m폐업 음식점 수\u001b[39m\u001b[38;5;124m'\u001b[39m] \u001b[38;5;241m=\u001b[39m merged_counts[\u001b[38;5;124m'\u001b[39m\u001b[38;5;124m폐업 음식점 수\u001b[39m\u001b[38;5;124m'\u001b[39m]\u001b[38;5;241m.\u001b[39mfillna(\u001b[38;5;241m0\u001b[39m)\n",
      "\u001b[1;31mNameError\u001b[0m: name 'pd' is not defined"
     ]
    }
   ],
   "source": [
    "merged_counts = pd.merge(total, closed, on='시군구', how='left')\n",
    "merged_counts['폐업 비율'] = (merged_counts['폐업 음식점 수'] / merged_counts['전체 음식점 수']) * 100\n",
    "\n",
    "merged_counts['폐업 음식점 수'] = merged_counts['폐업 음식점 수'].fillna(0)\n",
    "merged_counts['폐업 비율'] = merged_counts['폐업 비율'].fillna(0)"
   ]
  },
  {
   "cell_type": "markdown",
   "id": "69d0dcd9-6b9c-4d35-86f8-9da899ba4d11",
   "metadata": {},
   "source": [
    "- '폐업 비율'을 기준으로 내림차순으로 정렬하여 폐업 비율이 높은 순서대로 나열합니다."
   ]
  },
  {
   "cell_type": "code",
   "execution_count": 71,
   "id": "83b937c4-8c6a-44f6-b4fa-4ff28ace97dc",
   "metadata": {},
   "outputs": [
    {
     "ename": "NameError",
     "evalue": "name 'merged_counts' is not defined",
     "output_type": "error",
     "traceback": [
      "\u001b[1;31m---------------------------------------------------------------------------\u001b[0m",
      "\u001b[1;31mNameError\u001b[0m                                 Traceback (most recent call last)",
      "Cell \u001b[1;32mIn[71], line 1\u001b[0m\n\u001b[1;32m----> 1\u001b[0m result \u001b[38;5;241m=\u001b[39m merged_counts\u001b[38;5;241m.\u001b[39msort_values(by\u001b[38;5;241m=\u001b[39m\u001b[38;5;124m'\u001b[39m\u001b[38;5;124m폐업 비율\u001b[39m\u001b[38;5;124m'\u001b[39m, ascending\u001b[38;5;241m=\u001b[39m\u001b[38;5;28;01mFalse\u001b[39;00m)\n\u001b[0;32m      2\u001b[0m result\n",
      "\u001b[1;31mNameError\u001b[0m: name 'merged_counts' is not defined"
     ]
    }
   ],
   "source": [
    "result = merged_counts.sort_values(by='폐업 비율', ascending=False)\n",
    "result"
   ]
  },
  {
   "cell_type": "markdown",
   "id": "b6c391a4-1ce7-4d3e-9af2-2bd63d070095",
   "metadata": {},
   "source": [
    "## 실행결과에 대한 설명"
   ]
  },
  {
   "cell_type": "markdown",
   "id": "d3a24ff7-9461-48d9-9585-05eaab80c903",
   "metadata": {},
   "source": []
  },
  {
   "cell_type": "markdown",
   "id": "1557553d-0b3e-4c1b-8fa6-6b8335f6e9ce",
   "metadata": {},
   "source": [
    "6. 시군구별 거주인구 수 데이터를 구해서 인구수 대비 영업중인 음식점의 비율을 시군구별로 구하고 인구대비음식점의 수가 가장 큰 순으로 나타내어라."
   ]
  },
  {
   "cell_type": "markdown",
   "id": "24849e11-a4bb-4221-a989-b8eb58406844",
   "metadata": {},
   "source": [
    "- 시도별 시군구 매핑을 위해 작성합니다."
   ]
  },
  {
   "cell_type": "code",
   "execution_count": null,
   "id": "19129ee8-e1ec-420f-bfcb-525ec6289aeb",
   "metadata": {},
   "outputs": [],
   "source": [
    "sido_to_sigungu = {\n",
    "    '서울': ['강남구', '강동구', '강북구', '강서구', '관악구', '광진구', '구로구', '금천구', '노원구', '도봉구', '동대문구', '동작구', '마포구', '서대문구', '서초구', '성동구', '성북구', '송파구', '양천구', '영등포구', '용산구', '은평구', '종로구', '중구', '중랑구'],\n",
    "    '부산': ['강서구', '금정구', '기장군', '남구', '동구', '동래구', '부산진구', '북구', '사상구', '사하구', '서구', '수영구', '연제구', '영도구', '중구', '해운대구'],\n",
    "    '대구': ['남구', '달서구', '달성군', '동구', '북구', '서구', '수성구', '중구'],\n",
    "    '인천': ['강화군', '계양구', '남동구', '동구', '미추홀구', '부평구', '서구', '연수구', '옹진군', '중구'],\n",
    "    '광주': ['광산구', '남구', '동구', '북구', '서구'],\n",
    "    '대전': ['대덕구', '동구', '서구', '유성구', '중구'],\n",
    "    '울산': ['남구', '동구', '북구', '울주군', '중구'],\n",
    "    '세종': ['세종시'],\n",
    "    '경기': ['가평군', '고양시', '과천시', '광명시', '광주시', '구리시', '군포시', '김포시', '남양주시', '동두천시', '부천시', '성남시', '수원시', '시흥시', '안산시', '안성시', '안양시', '양주시', '양평군', '여주시', '연천군', '오산시', '용인시', '의왕시', '의정부시', '이천시', '파주시', '평택시', '포천시', '하남시', '화성시'],\n",
    "    '강원': ['강릉시', '고성군', '동해시', '삼척시', '속초시', '양구군', '양양군', '영월군', '원주시', '인제군', '정선군', '철원군', '춘천시', '태백시', '평창군', '홍천군', '화천군', '횡성군'],\n",
    "    '충북': ['괴산군', '단양군', '보은군', '영동군', '옥천군', '음성군', '제천시', '진천군', '청주시', '충주시', '증평군'],\n",
    "    '충남': ['계룡시', '공주시', '금산군', '논산시', '당진시', '보령시', '부여군', '서산시', '서천군', '아산시', '예산군', '천안시', '청양군', '태안군', '홍성군'],\n",
    "    '전북': ['고창군', '군산시', '김제시', '남원시', '무주군', '부안군', '순창군', '완주군', '익산시', '임실군', '장수군', '전주시', '정읍시', '진안군'],\n",
    "    '전남': ['강진군', '고흥군', '곡성군', '광양시', '구례군', '나주시', '담양군', '목포시', '무안군', '보성군', '순천시', '신안군', '여수시', '영광군', '영암군', '완도군', '장성군', '장흥군', '진도군', '함평군', '해남군', '화순군'],\n",
    "    '경북': ['경산시', '경주시', '고령군', '구미시', '군위군', '김천시', '문경시', '봉화군', '상주시', '성주군', '안동시', '영덕군', '영양군', '영주시', '영천시', '예천군', '울릉군', '울진군', '의성군', '청도군', '청송군', '칠곡군', '포항시'],\n",
    "    '경남': ['거제시', '거창군', '고성군', '김해시', '남해군', '밀양시', '사천시', '산청군', '양산시', '의령군', '진주시', '창녕군', '창원시', '통영시', '하동군', '함안군', '함양군', '합천군'],\n",
    "    '제주': ['서귀포시', '제주시']\n",
    "}"
   ]
  },
  {
   "cell_type": "markdown",
   "id": "f4885c25-cf5f-48e0-b90e-8df30166566b",
   "metadata": {},
   "source": [
    "- 음식점 데이터 불러오기 및 병합하고 인구 데이터와 음식점 데이터 병합을 합니다.\n",
    "- 영업 중인 음식점 필터링을 통해 시군구별 영업중인 음식점 수 계산합니다.\n",
    "- 영업중인 음식점 수와 인구 데이터 병합하여 인구 대비 음식점 비율 계산합니다.\n",
    "- 마지막으로 인구 대비 음식점 비율 기준으로 정렬합니다."
   ]
  },
  {
   "cell_type": "code",
   "execution_count": 41,
   "id": "64498c9f-3d3b-4d8b-9a24-c5dce551a641",
   "metadata": {},
   "outputs": [
    {
     "data": {
      "text/html": [
       "<div>\n",
       "<style scoped>\n",
       "    .dataframe tbody tr th:only-of-type {\n",
       "        vertical-align: middle;\n",
       "    }\n",
       "\n",
       "    .dataframe tbody tr th {\n",
       "        vertical-align: top;\n",
       "    }\n",
       "\n",
       "    .dataframe thead th {\n",
       "        text-align: right;\n",
       "    }\n",
       "</style>\n",
       "<table border=\"1\" class=\"dataframe\">\n",
       "  <thead>\n",
       "    <tr style=\"text-align: right;\">\n",
       "      <th></th>\n",
       "      <th>시군구</th>\n",
       "      <th>영업중 음식점 수</th>\n",
       "      <th>총인구</th>\n",
       "      <th>인구 대비 음식점 비율</th>\n",
       "    </tr>\n",
       "  </thead>\n",
       "  <tbody>\n",
       "    <tr>\n",
       "      <th>184</th>\n",
       "      <td>중구</td>\n",
       "      <td>122136</td>\n",
       "      <td>212256.812500</td>\n",
       "      <td>57541.616008</td>\n",
       "    </tr>\n",
       "    <tr>\n",
       "      <th>188</th>\n",
       "      <td>중구</td>\n",
       "      <td>122136</td>\n",
       "      <td>227683.800000</td>\n",
       "      <td>53642.815167</td>\n",
       "    </tr>\n",
       "    <tr>\n",
       "      <th>101</th>\n",
       "      <td>서구</td>\n",
       "      <td>96680</td>\n",
       "      <td>212256.812500</td>\n",
       "      <td>45548.596938</td>\n",
       "    </tr>\n",
       "    <tr>\n",
       "      <th>187</th>\n",
       "      <td>중구</td>\n",
       "      <td>122136</td>\n",
       "      <td>293908.600000</td>\n",
       "      <td>41555.776183</td>\n",
       "    </tr>\n",
       "    <tr>\n",
       "      <th>186</th>\n",
       "      <td>중구</td>\n",
       "      <td>122136</td>\n",
       "      <td>301473.900000</td>\n",
       "      <td>40512.959828</td>\n",
       "    </tr>\n",
       "    <tr>\n",
       "      <th>...</th>\n",
       "      <td>...</td>\n",
       "      <td>...</td>\n",
       "      <td>...</td>\n",
       "      <td>...</td>\n",
       "    </tr>\n",
       "    <tr>\n",
       "      <th>139</th>\n",
       "      <td>연천군</td>\n",
       "      <td>869</td>\n",
       "      <td>449221.354839</td>\n",
       "      <td>193.445835</td>\n",
       "    </tr>\n",
       "    <tr>\n",
       "      <th>146</th>\n",
       "      <td>영양군</td>\n",
       "      <td>223</td>\n",
       "      <td>116422.130435</td>\n",
       "      <td>191.544339</td>\n",
       "    </tr>\n",
       "    <tr>\n",
       "      <th>23</th>\n",
       "      <td>과천시</td>\n",
       "      <td>403</td>\n",
       "      <td>449221.354839</td>\n",
       "      <td>89.710784</td>\n",
       "    </tr>\n",
       "    <tr>\n",
       "      <th>52</th>\n",
       "      <td>남양주</td>\n",
       "      <td>6965</td>\n",
       "      <td>NaN</td>\n",
       "      <td>NaN</td>\n",
       "    </tr>\n",
       "    <tr>\n",
       "      <th>71</th>\n",
       "      <td>동두천</td>\n",
       "      <td>1321</td>\n",
       "      <td>NaN</td>\n",
       "      <td>NaN</td>\n",
       "    </tr>\n",
       "  </tbody>\n",
       "</table>\n",
       "<p>228 rows × 4 columns</p>\n",
       "</div>"
      ],
      "text/plain": [
       "     시군구  영업중 음식점 수            총인구  인구 대비 음식점 비율\n",
       "184   중구     122136  212256.812500  57541.616008\n",
       "188   중구     122136  227683.800000  53642.815167\n",
       "101   서구      96680  212256.812500  45548.596938\n",
       "187   중구     122136  293908.600000  41555.776183\n",
       "186   중구     122136  301473.900000  40512.959828\n",
       "..   ...        ...            ...           ...\n",
       "139  연천군        869  449221.354839    193.445835\n",
       "146  영양군        223  116422.130435    191.544339\n",
       "23   과천시        403  449221.354839     89.710784\n",
       "52   남양주       6965            NaN           NaN\n",
       "71   동두천       1321            NaN           NaN\n",
       "\n",
       "[228 rows x 4 columns]"
      ]
     },
     "execution_count": 41,
     "metadata": {},
     "output_type": "execute_result"
    }
   ],
   "source": [
    "population_data = pd.read_csv('data/시도별_인구.csv')\n",
    "population_data = population_data.rename(columns={'시도명': '시군구'})\n",
    "expanded_population_data = pd.DataFrame(columns=['시군구', '총인구'])\n",
    "rows = []\n",
    "\n",
    "for sido, sigungus in sido_to_sigungu.items():\n",
    "    total_population = population_data.loc[population_data['시군구'] == sido, '총인구'].values[0]\n",
    "    for sigungu in sigungus:\n",
    "        rows.append({'시군구': sigungu, '총인구': total_population / len(sigungus)})\n",
    "\n",
    "expanded_population_data = pd.DataFrame(rows)\n",
    "\n",
    "restaurant_data = pd.read_csv(\n",
    "    'data/일반음식점.csv', \n",
    "    encoding='cp949', \n",
    "    low_memory=False,\n",
    "    dtype={\n",
    "        '22': str, '27': str, '39': str, '41': str, '44': str, '45': str  # 혼합된 열에 대해 문자열로 명시적으로 지정\n",
    "    }\n",
    ")\n",
    "\n",
    "local_code_data = pd.read_excel('data/자치단체코드.xlsx')[['시군구(자치단체)코드', '시군구명']]\n",
    "local_code_data = local_code_data.rename(columns={'시군구(자치단체)코드': '자치단체코드', '시군구명': '시군구'})\n",
    "local_code_data = local_code_data[['자치단체코드', '시군구']]\n",
    "\n",
    "merged_data = pd.merge(restaurant_data, local_code_data, left_on='개방자치단체코드', right_on='자치단체코드', how='left')\n",
    "\n",
    "merged_population_data = pd.merge(merged_data, expanded_population_data, on='시군구', how='left')\n",
    "\n",
    "open_restaurants = merged_population_data[merged_population_data['영업상태명'] == '영업/정상']\n",
    "\n",
    "count = open_restaurants.groupby('시군구').size().reset_index(name='영업중 음식점 수')\n",
    "\n",
    "restaurant_population = pd.merge(count, expanded_population_data, on='시군구', how='left')\n",
    "\n",
    "restaurant_population['인구 대비 음식점 비율'] = (restaurant_population['영업중 음식점 수'] / restaurant_population['총인구']) * 100000\n",
    "\n",
    "result = restaurant_population.sort_values(by='인구 대비 음식점 비율', ascending=False)\n",
    "\n",
    "result"
   ]
  },
  {
   "cell_type": "markdown",
   "id": "22ee4fdf-b7bd-4114-8aa9-309075e17eb0",
   "metadata": {},
   "source": [
    "## 실행결과에 대한 설명"
   ]
  },
  {
   "cell_type": "markdown",
   "id": "7f62bc0b-0771-4284-9929-782f70ab5519",
   "metadata": {},
   "source": []
  },
  {
   "cell_type": "markdown",
   "id": "04758aba-fbaf-405f-b50f-1059ae07b6c6",
   "metadata": {},
   "source": [
    "7. 음식점 데이터에서 ’업태구분명’은 음식점의 종류이다. 분석에서 관심 업태는 [‘한식’, ‘치킨’, ‘분식’, ‘양식’, ‘식육(숯불구이)’, ‘중국식’, ‘일식’, ‘까페’, ‘패스트푸드’] 이고 이를 위해서 기존 저장된 업태를 아래와 같이 변경하여라.\r\n"
   ]
  },
  {
   "cell_type": "markdown",
   "id": "07eb01a0-c843-428f-a2a9-5fbcefcb9250",
   "metadata": {},
   "source": [
    "- dropna()를 이용해 업태구분명 열에 NaN(결측값)이 있는 행을 삭제합니다.\n",
    "- '업태구분명' 열의 값을 모두 문자열(str)로 변환하여 문자열 처리 작업을 수행합니다."
   ]
  },
  {
   "cell_type": "code",
   "execution_count": null,
   "id": "451d2bb2-aeb8-49c1-9ecc-8085b698c5b3",
   "metadata": {},
   "outputs": [],
   "source": [
    "restaurant_data = pd.read_csv('data/일반음식점.csv', encoding='cp949', low_memory=False)\n",
    "\n",
    "restaurant_data = restaurant_data.dropna(subset=['업태구분명'])\n",
    "restaurant_data['업태구분명'] = restaurant_data['업태구분명'].astype(str)"
   ]
  },
  {
   "cell_type": "markdown",
   "id": "cbc3a152-4152-4835-af45-e3707c19094e",
   "metadata": {},
   "source": [
    "- 업태구분명이 숫자인 행과 한글, 영어, 공백, 슬래시 등 정상적인 문자로 구성되지 않은 값을 제거합니다.\n",
    "- replace 메서드를 사용하여 기존의 다양한 업태명을 지정된 새 업태명으로 변경합니다."
   ]
  },
  {
   "cell_type": "code",
   "execution_count": 54,
   "id": "0714ab50-6570-431d-a016-871b368e14d3",
   "metadata": {},
   "outputs": [
    {
     "name": "stdout",
     "output_type": "stream",
     "text": [
      "0          한식\n",
      "1          치킨\n",
      "2          기타\n",
      "3          한식\n",
      "4          기타\n",
      "           ..\n",
      "2018760    한식\n",
      "2018761    한식\n",
      "2018762    한식\n",
      "2018763    한식\n",
      "2018764    양식\n",
      "Name: 업태구분명, Length: 1872811, dtype: object\n"
     ]
    }
   ],
   "source": [
    "restaurant_data = restaurant_data[~restaurant_data['업태구분명'].str.isnumeric()]\n",
    "restaurant_data = restaurant_data[restaurant_data['업태구분명'].apply(lambda x: bool(re.match('^[가-힣A-Za-z/ ]+$', str(x))))]\n",
    "\n",
    "restaurant_data['업태구분명'] = restaurant_data['업태구분명'].replace({\n",
    "    '라이브카페': '카페',\n",
    "    '카페': '카페',\n",
    "    '커피숍': '카페',\n",
    "    '다방': '카페',\n",
    "    '전통찻집': '카페',\n",
    "    '키즈카페': '카페',\n",
    "    '호프/통닭': '치킨',\n",
    "    '통닭(치킨)': '치킨',\n",
    "    '경양식': '양식',\n",
    "    '패밀리레스트랑': '양식'\n",
    "})\n",
    "\n",
    "print(restaurant_data['업태구분명'])"
   ]
  },
  {
   "cell_type": "markdown",
   "id": "5f4aead2-ff31-4c61-8d8a-3547378638c2",
   "metadata": {},
   "source": [
    "## 실행결과에 대한 설명"
   ]
  },
  {
   "cell_type": "markdown",
   "id": "d9aa84d5-c445-44f0-979a-a2ad6bc81d9c",
   "metadata": {},
   "source": []
  },
  {
   "cell_type": "markdown",
   "id": "ed35f33f-0777-42f3-8d69-17bd3e0ff958",
   "metadata": {},
   "source": [
    "8. 지역별 관심업태에 따른 음식점의 수를 구하라."
   ]
  },
  {
   "cell_type": "markdown",
   "id": "10cd7a19-48f7-4e05-8733-1c37f78ffb6b",
   "metadata": {},
   "source": [
    "- '서울특별시 강남구' 같은 형식의 시/군/구 정보를 추출합니다. 이를 통해 조금 더 세밀한 시/군/구 추출을 합니다."
   ]
  },
  {
   "cell_type": "code",
   "execution_count": null,
   "id": "deef7b28-c2aa-43f0-82c8-a95b8daa51d9",
   "metadata": {},
   "outputs": [],
   "source": [
    "def extract_region(address):\n",
    "    pattern = r'([가-힣]+[도|시]\\s*[가-힣]+[시|군|구])'\n",
    "    if isinstance(address, str):\n",
    "        match = re.search(pattern, address)\n",
    "        if match:\n",
    "            return match.group(1)\n",
    "    return '기타'\n",
    "\n",
    "restaurant_data = pd.read_csv('data/일반음식점.csv', encoding='cp949', low_memory=False)\n",
    "\n",
    "restaurant_data['소재지전체주소'] = restaurant_data['소재지전체주소'].fillna('')\n",
    "restaurant_data['소재지전체주소'] = restaurant_data['소재지전체주소'].astype(str)"
   ]
  },
  {
   "cell_type": "markdown",
   "id": "8e290ee7-c602-41bf-9aeb-1f10eb02934e",
   "metadata": {},
   "source": [
    "- apply 메서드를 사용하여 소재지전체주소에서 시/군/구 정보를 추출하고, 새로운 열 '시군구'에 저장합니다.\n",
    "- '기타'로 표시된 명확하지 않은 시군구 정보는 분석에 불필요하므로 제거합니다."
   ]
  },
  {
   "cell_type": "code",
   "execution_count": 62,
   "id": "ae2e010f-02a9-484b-b62f-3dd61405f35d",
   "metadata": {},
   "outputs": [
    {
     "name": "stdout",
     "output_type": "stream",
     "text": [
      "           시군구     업태구분명  음식점 수\n",
      "0      강원도 강릉시        분식    893\n",
      "1      강원도 강릉시  식육(숯불구이)    842\n",
      "2      강원도 강릉시        일식    136\n",
      "3      강원도 강릉시       중국식    378\n",
      "4      강원도 강릉시     패스트푸드    183\n",
      "...        ...       ...    ...\n",
      "1376  충청북도 충주시  식육(숯불구이)    224\n",
      "1377  충청북도 충주시        일식    135\n",
      "1378  충청북도 충주시       중국식    302\n",
      "1379  충청북도 충주시     패스트푸드    112\n",
      "1380  충청북도 충주시        한식   5288\n",
      "\n",
      "[1375 rows x 3 columns]\n"
     ]
    }
   ],
   "source": [
    "restaurant_data['시군구'] = restaurant_data['소재지전체주소'].apply(extract_region)\n",
    "interest_uptei = ['한식', '치킨', '분식', '양식', '식육(숯불구이)', '중국식', '일식', '카페', '패스트푸드']\n",
    "\n",
    "filtered_data = restaurant_data[restaurant_data['업태구분명'].isin(interest_uptei)]\n",
    "region_interest_count = filtered_data.groupby(['시군구', '업태구분명']).size().reset_index(name='음식점 수')\n",
    "\n",
    "region_interest_count = region_interest_count[region_interest_count['시군구'] != '기타']\n",
    "\n",
    "print(region_interest_count)"
   ]
  },
  {
   "cell_type": "markdown",
   "id": "7b294d57-f064-476e-9e94-f4286036b8d6",
   "metadata": {},
   "source": [
    "## 실행결과에 대한 설명"
   ]
  },
  {
   "cell_type": "markdown",
   "id": "376da2e4-f0a6-4a70-a72a-e1005e4dd18b",
   "metadata": {},
   "source": []
  }
 ],
 "metadata": {
  "kernelspec": {
   "display_name": "Python 3 (ipykernel)",
   "language": "python",
   "name": "python3"
  },
  "language_info": {
   "codemirror_mode": {
    "name": "ipython",
    "version": 3
   },
   "file_extension": ".py",
   "mimetype": "text/x-python",
   "name": "python",
   "nbconvert_exporter": "python",
   "pygments_lexer": "ipython3",
   "version": "3.12.4"
  }
 },
 "nbformat": 4,
 "nbformat_minor": 5
}
