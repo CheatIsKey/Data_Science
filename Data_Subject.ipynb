{
 "cells": [
  {
   "cell_type": "markdown",
   "id": "bea8098c-d5d7-4315-ac2d-d0545ae44da2",
   "metadata": {},
   "source": [
    "# **4.13 실습문제**"
   ]
  },
  {
   "cell_type": "markdown",
   "id": "a5764618-0e2c-40de-ad30-a76d6ed5275d",
   "metadata": {},
   "source": [
    "### [시도별 인구]\n",
    "\n",
    "#### 목표: 시도이름을 기준으로 두 데이터를 병합하고, 여자인구비(%)와 외국인비율(%)를 계산하여 컬럼을 추가하라. 외국인비가 가장 큰 순으로 정렬하라."
   ]
  },
  {
   "cell_type": "markdown",
   "id": "7b4c3443-941b-45d1-90b2-89699075cfad",
   "metadata": {},
   "source": [
    "- 우선, CSV 파일을 데이터프레임으로 불러오고, 데이터 병합, 정렬, 필터링 등의 작업을 간편하게 수행하기 위해 판다스 라이브러리를 불러옵니다.   \n",
    "수치 연산과 배열 처리를 빠르고 효율적으로 수행하기 위해 넘파이를 불러옵니다."
   ]
  },
  {
   "cell_type": "code",
   "execution_count": 1,
   "id": "945b37dd-915a-444a-b9a0-e845022738ac",
   "metadata": {},
   "outputs": [],
   "source": [
    "import pandas as pd\n",
    "import numpy as np"
   ]
  },
  {
   "cell_type": "markdown",
   "id": "31a45140-6140-4eec-ae38-52aba28d3171",
   "metadata": {},
   "source": [
    "- 주어진 '시도별_인구.csv' 파일을 읽어 데이터프레임 a에 저장하고 '시도별_외국인인구.csv' 파일 또한 데이터프레임 b에 저장합니다."
   ]
  },
  {
   "cell_type": "code",
   "execution_count": 2,
   "id": "7c23cf01-6341-4bce-b801-fb9a7749b059",
   "metadata": {},
   "outputs": [],
   "source": [
    "a = pd.read_csv(\"./data/시도별_인구.csv\")  # 데이터프레임 a에 저장\n",
    "b = pd.read_csv(\"./data/시도별_외국인인구.csv\")  # 데이터프레임 b에 저장"
   ]
  },
  {
   "cell_type": "markdown",
   "id": "8b9fe1af-0ce7-4079-b0fb-c03ed778636e",
   "metadata": {},
   "source": [
    "- a와 b를 '시도명'과 '시도' 열을 기준으로 병합하여 x에 저장하고 x를 출력합니다."
   ]
  },
  {
   "cell_type": "code",
   "execution_count": 3,
   "id": "f9aa8e96-249c-4104-b44a-8665cbbb7687",
   "metadata": {
    "scrolled": true
   },
   "outputs": [
    {
     "data": {
      "text/html": [
       "<div>\n",
       "<style scoped>\n",
       "    .dataframe tbody tr th:only-of-type {\n",
       "        vertical-align: middle;\n",
       "    }\n",
       "\n",
       "    .dataframe tbody tr th {\n",
       "        vertical-align: top;\n",
       "    }\n",
       "\n",
       "    .dataframe thead th {\n",
       "        text-align: right;\n",
       "    }\n",
       "</style>\n",
       "<table border=\"1\" class=\"dataframe\">\n",
       "  <thead>\n",
       "    <tr style=\"text-align: right;\">\n",
       "      <th></th>\n",
       "      <th>시도명</th>\n",
       "      <th>총인구</th>\n",
       "      <th>남자</th>\n",
       "      <th>여자</th>\n",
       "      <th>가구수</th>\n",
       "      <th>시도</th>\n",
       "      <th>외국인</th>\n",
       "    </tr>\n",
       "  </thead>\n",
       "  <tbody>\n",
       "    <tr>\n",
       "      <th>0</th>\n",
       "      <td>서울</td>\n",
       "      <td>9736027</td>\n",
       "      <td>4721977</td>\n",
       "      <td>5014050</td>\n",
       "      <td>4426007</td>\n",
       "      <td>서울</td>\n",
       "      <td>226569</td>\n",
       "    </tr>\n",
       "    <tr>\n",
       "      <th>1</th>\n",
       "      <td>부산</td>\n",
       "      <td>3396109</td>\n",
       "      <td>1663619</td>\n",
       "      <td>1732490</td>\n",
       "      <td>1544663</td>\n",
       "      <td>부산</td>\n",
       "      <td>45729</td>\n",
       "    </tr>\n",
       "    <tr>\n",
       "      <th>2</th>\n",
       "      <td>대구</td>\n",
       "      <td>2412642</td>\n",
       "      <td>1189901</td>\n",
       "      <td>1222741</td>\n",
       "      <td>1063893</td>\n",
       "      <td>대구</td>\n",
       "      <td>27230</td>\n",
       "    </tr>\n",
       "    <tr>\n",
       "      <th>3</th>\n",
       "      <td>인천</td>\n",
       "      <td>3014739</td>\n",
       "      <td>1513277</td>\n",
       "      <td>1501462</td>\n",
       "      <td>1298647</td>\n",
       "      <td>인천</td>\n",
       "      <td>66364</td>\n",
       "    </tr>\n",
       "    <tr>\n",
       "      <th>4</th>\n",
       "      <td>광주</td>\n",
       "      <td>1462545</td>\n",
       "      <td>724178</td>\n",
       "      <td>738367</td>\n",
       "      <td>645712</td>\n",
       "      <td>광주</td>\n",
       "      <td>20934</td>\n",
       "    </tr>\n",
       "    <tr>\n",
       "      <th>5</th>\n",
       "      <td>대전</td>\n",
       "      <td>1469543</td>\n",
       "      <td>732593</td>\n",
       "      <td>736950</td>\n",
       "      <td>664417</td>\n",
       "      <td>대전</td>\n",
       "      <td>17292</td>\n",
       "    </tr>\n",
       "    <tr>\n",
       "      <th>6</th>\n",
       "      <td>울산</td>\n",
       "      <td>1138419</td>\n",
       "      <td>586031</td>\n",
       "      <td>552388</td>\n",
       "      <td>482650</td>\n",
       "      <td>울산</td>\n",
       "      <td>16827</td>\n",
       "    </tr>\n",
       "    <tr>\n",
       "      <th>7</th>\n",
       "      <td>세종</td>\n",
       "      <td>376779</td>\n",
       "      <td>188619</td>\n",
       "      <td>188160</td>\n",
       "      <td>153649</td>\n",
       "      <td>세종</td>\n",
       "      <td>4884</td>\n",
       "    </tr>\n",
       "    <tr>\n",
       "      <th>8</th>\n",
       "      <td>경기</td>\n",
       "      <td>13925862</td>\n",
       "      <td>7038296</td>\n",
       "      <td>6887566</td>\n",
       "      <td>5841995</td>\n",
       "      <td>경기</td>\n",
       "      <td>360412</td>\n",
       "    </tr>\n",
       "    <tr>\n",
       "      <th>9</th>\n",
       "      <td>강원</td>\n",
       "      <td>1555876</td>\n",
       "      <td>783743</td>\n",
       "      <td>772133</td>\n",
       "      <td>746220</td>\n",
       "      <td>강원</td>\n",
       "      <td>17384</td>\n",
       "    </tr>\n",
       "    <tr>\n",
       "      <th>10</th>\n",
       "      <td>충북</td>\n",
       "      <td>1633472</td>\n",
       "      <td>832743</td>\n",
       "      <td>800729</td>\n",
       "      <td>760672</td>\n",
       "      <td>충북</td>\n",
       "      <td>36045</td>\n",
       "    </tr>\n",
       "    <tr>\n",
       "      <th>11</th>\n",
       "      <td>충남</td>\n",
       "      <td>2181835</td>\n",
       "      <td>1120429</td>\n",
       "      <td>1061406</td>\n",
       "      <td>1001915</td>\n",
       "      <td>충남</td>\n",
       "      <td>62578</td>\n",
       "    </tr>\n",
       "    <tr>\n",
       "      <th>12</th>\n",
       "      <td>전북</td>\n",
       "      <td>1817186</td>\n",
       "      <td>905672</td>\n",
       "      <td>911514</td>\n",
       "      <td>849001</td>\n",
       "      <td>전북</td>\n",
       "      <td>30331</td>\n",
       "    </tr>\n",
       "    <tr>\n",
       "      <th>13</th>\n",
       "      <td>전남</td>\n",
       "      <td>1865459</td>\n",
       "      <td>943018</td>\n",
       "      <td>922441</td>\n",
       "      <td>903108</td>\n",
       "      <td>전남</td>\n",
       "      <td>32656</td>\n",
       "    </tr>\n",
       "    <tr>\n",
       "      <th>14</th>\n",
       "      <td>경북</td>\n",
       "      <td>2677709</td>\n",
       "      <td>1355128</td>\n",
       "      <td>1322581</td>\n",
       "      <td>1276846</td>\n",
       "      <td>경북</td>\n",
       "      <td>51100</td>\n",
       "    </tr>\n",
       "    <tr>\n",
       "      <th>15</th>\n",
       "      <td>경남</td>\n",
       "      <td>3377331</td>\n",
       "      <td>1709989</td>\n",
       "      <td>1667342</td>\n",
       "      <td>1505971</td>\n",
       "      <td>경남</td>\n",
       "      <td>63148</td>\n",
       "    </tr>\n",
       "    <tr>\n",
       "      <th>16</th>\n",
       "      <td>제주</td>\n",
       "      <td>697476</td>\n",
       "      <td>350822</td>\n",
       "      <td>346654</td>\n",
       "      <td>307529</td>\n",
       "      <td>제주</td>\n",
       "      <td>20717</td>\n",
       "    </tr>\n",
       "  </tbody>\n",
       "</table>\n",
       "</div>"
      ],
      "text/plain": [
       "   시도명       총인구       남자       여자      가구수  시도     외국인\n",
       "0   서울   9736027  4721977  5014050  4426007  서울  226569\n",
       "1   부산   3396109  1663619  1732490  1544663  부산   45729\n",
       "2   대구   2412642  1189901  1222741  1063893  대구   27230\n",
       "3   인천   3014739  1513277  1501462  1298647  인천   66364\n",
       "4   광주   1462545   724178   738367   645712  광주   20934\n",
       "5   대전   1469543   732593   736950   664417  대전   17292\n",
       "6   울산   1138419   586031   552388   482650  울산   16827\n",
       "7   세종    376779   188619   188160   153649  세종    4884\n",
       "8   경기  13925862  7038296  6887566  5841995  경기  360412\n",
       "9   강원   1555876   783743   772133   746220  강원   17384\n",
       "10  충북   1633472   832743   800729   760672  충북   36045\n",
       "11  충남   2181835  1120429  1061406  1001915  충남   62578\n",
       "12  전북   1817186   905672   911514   849001  전북   30331\n",
       "13  전남   1865459   943018   922441   903108  전남   32656\n",
       "14  경북   2677709  1355128  1322581  1276846  경북   51100\n",
       "15  경남   3377331  1709989  1667342  1505971  경남   63148\n",
       "16  제주    697476   350822   346654   307529  제주   20717"
      ]
     },
     "execution_count": 3,
     "metadata": {},
     "output_type": "execute_result"
    }
   ],
   "source": [
    "x = pd.merge(a, b, left_on=\"시도명\", right_on=\"시도\")\n",
    "x  # 데이터프레임 x를 출력합니다."
   ]
  },
  {
   "cell_type": "markdown",
   "id": "deeaa5dd-ff0d-411a-b974-afe355222b00",
   "metadata": {},
   "source": [
    "- '여자' 인구를 '총인구'로 나누어 백분율로 '여자인구비' 열을 생성합니다.\n",
    "그리고 '외국인' 인구를 '총인구'로 나누어 백분율로 '외국인비' 열을 생성합니다."
   ]
  },
  {
   "cell_type": "code",
   "execution_count": 4,
   "id": "4f144c93-47e9-47be-86ff-2639e26fdaf4",
   "metadata": {},
   "outputs": [],
   "source": [
    "x[\"여자인구비\"] = x[\"여자\"] / x[\"총인구\"] * 100\n",
    "x[\"외국인비\"] = x[\"외국인\"] / x[\"총인구\"] * 100"
   ]
  },
  {
   "cell_type": "markdown",
   "id": "24af3acd-8e9e-4f27-93ce-9e600c9aec83",
   "metadata": {},
   "source": [
    "- 필요한 열만 선택하여 데이터프레임 y에 저장하고 '외국인비'를 기준으로 내림차순 정렬하고 인덱스를 재설정합니다."
   ]
  },
  {
   "cell_type": "code",
   "execution_count": 5,
   "id": "ce40f5da-0cfd-4a00-90fb-fccbc1c12572",
   "metadata": {},
   "outputs": [
    {
     "data": {
      "text/html": [
       "<div>\n",
       "<style scoped>\n",
       "    .dataframe tbody tr th:only-of-type {\n",
       "        vertical-align: middle;\n",
       "    }\n",
       "\n",
       "    .dataframe tbody tr th {\n",
       "        vertical-align: top;\n",
       "    }\n",
       "\n",
       "    .dataframe thead th {\n",
       "        text-align: right;\n",
       "    }\n",
       "</style>\n",
       "<table border=\"1\" class=\"dataframe\">\n",
       "  <thead>\n",
       "    <tr style=\"text-align: right;\">\n",
       "      <th></th>\n",
       "      <th>시도명</th>\n",
       "      <th>총인구</th>\n",
       "      <th>가구수</th>\n",
       "      <th>여자인구비</th>\n",
       "      <th>외국인비</th>\n",
       "    </tr>\n",
       "  </thead>\n",
       "  <tbody>\n",
       "    <tr>\n",
       "      <th>0</th>\n",
       "      <td>제주</td>\n",
       "      <td>697476</td>\n",
       "      <td>307529</td>\n",
       "      <td>49.701208</td>\n",
       "      <td>2.970281</td>\n",
       "    </tr>\n",
       "    <tr>\n",
       "      <th>1</th>\n",
       "      <td>충남</td>\n",
       "      <td>2181835</td>\n",
       "      <td>1001915</td>\n",
       "      <td>48.647400</td>\n",
       "      <td>2.868136</td>\n",
       "    </tr>\n",
       "    <tr>\n",
       "      <th>2</th>\n",
       "      <td>경기</td>\n",
       "      <td>13925862</td>\n",
       "      <td>5841995</td>\n",
       "      <td>49.458813</td>\n",
       "      <td>2.588077</td>\n",
       "    </tr>\n",
       "    <tr>\n",
       "      <th>3</th>\n",
       "      <td>서울</td>\n",
       "      <td>9736027</td>\n",
       "      <td>4426007</td>\n",
       "      <td>51.499960</td>\n",
       "      <td>2.327120</td>\n",
       "    </tr>\n",
       "    <tr>\n",
       "      <th>4</th>\n",
       "      <td>충북</td>\n",
       "      <td>1633472</td>\n",
       "      <td>760672</td>\n",
       "      <td>49.020063</td>\n",
       "      <td>2.206649</td>\n",
       "    </tr>\n",
       "    <tr>\n",
       "      <th>5</th>\n",
       "      <td>인천</td>\n",
       "      <td>3014739</td>\n",
       "      <td>1298647</td>\n",
       "      <td>49.804046</td>\n",
       "      <td>2.201318</td>\n",
       "    </tr>\n",
       "    <tr>\n",
       "      <th>6</th>\n",
       "      <td>경북</td>\n",
       "      <td>2677709</td>\n",
       "      <td>1276846</td>\n",
       "      <td>49.392260</td>\n",
       "      <td>1.908348</td>\n",
       "    </tr>\n",
       "    <tr>\n",
       "      <th>7</th>\n",
       "      <td>경남</td>\n",
       "      <td>3377331</td>\n",
       "      <td>1505971</td>\n",
       "      <td>49.368629</td>\n",
       "      <td>1.869760</td>\n",
       "    </tr>\n",
       "    <tr>\n",
       "      <th>8</th>\n",
       "      <td>전남</td>\n",
       "      <td>1865459</td>\n",
       "      <td>903108</td>\n",
       "      <td>49.448474</td>\n",
       "      <td>1.750561</td>\n",
       "    </tr>\n",
       "    <tr>\n",
       "      <th>9</th>\n",
       "      <td>전북</td>\n",
       "      <td>1817186</td>\n",
       "      <td>849001</td>\n",
       "      <td>50.160743</td>\n",
       "      <td>1.669119</td>\n",
       "    </tr>\n",
       "    <tr>\n",
       "      <th>10</th>\n",
       "      <td>울산</td>\n",
       "      <td>1138419</td>\n",
       "      <td>482650</td>\n",
       "      <td>48.522381</td>\n",
       "      <td>1.478103</td>\n",
       "    </tr>\n",
       "    <tr>\n",
       "      <th>11</th>\n",
       "      <td>광주</td>\n",
       "      <td>1462545</td>\n",
       "      <td>645712</td>\n",
       "      <td>50.485079</td>\n",
       "      <td>1.431341</td>\n",
       "    </tr>\n",
       "    <tr>\n",
       "      <th>12</th>\n",
       "      <td>부산</td>\n",
       "      <td>3396109</td>\n",
       "      <td>1544663</td>\n",
       "      <td>51.013969</td>\n",
       "      <td>1.346512</td>\n",
       "    </tr>\n",
       "    <tr>\n",
       "      <th>13</th>\n",
       "      <td>세종</td>\n",
       "      <td>376779</td>\n",
       "      <td>153649</td>\n",
       "      <td>49.939089</td>\n",
       "      <td>1.296251</td>\n",
       "    </tr>\n",
       "    <tr>\n",
       "      <th>14</th>\n",
       "      <td>대전</td>\n",
       "      <td>1469543</td>\n",
       "      <td>664417</td>\n",
       "      <td>50.148243</td>\n",
       "      <td>1.176692</td>\n",
       "    </tr>\n",
       "    <tr>\n",
       "      <th>15</th>\n",
       "      <td>대구</td>\n",
       "      <td>2412642</td>\n",
       "      <td>1063893</td>\n",
       "      <td>50.680582</td>\n",
       "      <td>1.128638</td>\n",
       "    </tr>\n",
       "    <tr>\n",
       "      <th>16</th>\n",
       "      <td>강원</td>\n",
       "      <td>1555876</td>\n",
       "      <td>746220</td>\n",
       "      <td>49.626898</td>\n",
       "      <td>1.117313</td>\n",
       "    </tr>\n",
       "  </tbody>\n",
       "</table>\n",
       "</div>"
      ],
      "text/plain": [
       "   시도명       총인구      가구수      여자인구비      외국인비\n",
       "0   제주    697476   307529  49.701208  2.970281\n",
       "1   충남   2181835  1001915  48.647400  2.868136\n",
       "2   경기  13925862  5841995  49.458813  2.588077\n",
       "3   서울   9736027  4426007  51.499960  2.327120\n",
       "4   충북   1633472   760672  49.020063  2.206649\n",
       "5   인천   3014739  1298647  49.804046  2.201318\n",
       "6   경북   2677709  1276846  49.392260  1.908348\n",
       "7   경남   3377331  1505971  49.368629  1.869760\n",
       "8   전남   1865459   903108  49.448474  1.750561\n",
       "9   전북   1817186   849001  50.160743  1.669119\n",
       "10  울산   1138419   482650  48.522381  1.478103\n",
       "11  광주   1462545   645712  50.485079  1.431341\n",
       "12  부산   3396109  1544663  51.013969  1.346512\n",
       "13  세종    376779   153649  49.939089  1.296251\n",
       "14  대전   1469543   664417  50.148243  1.176692\n",
       "15  대구   2412642  1063893  50.680582  1.128638\n",
       "16  강원   1555876   746220  49.626898  1.117313"
      ]
     },
     "execution_count": 5,
     "metadata": {},
     "output_type": "execute_result"
    }
   ],
   "source": [
    "y = x[['시도명', '총인구', '가구수', '여자인구비', '외국인비']]\n",
    "y = y.sort_values('외국인비', ascending=False, ignore_index=True) \n",
    "y  # 데이터프레임 y를 출력"
   ]
  },
  {
   "cell_type": "markdown",
   "id": "f7e17c17-dddb-4dc7-8741-8b383d5b3c77",
   "metadata": {},
   "source": [
    "## 실행결과에 대한 설명"
   ]
  },
  {
   "cell_type": "markdown",
   "id": "5e6f5946-936b-453c-8bc4-c61b5b9f5111",
   "metadata": {},
   "source": [
    "y는 각 시도별로 외국인 인구 비율이 높은 순서대로 정렬된 데이터프레임입니다.   \n",
    "이 데이터프레임에는 시도명, 총인구, 가구수, 여자인구비(%), 외국인비(%) 열이 포함되어 있습니다.   \n",
    "이를 통해, 외국인 인구 비율이 가장 높은 시도부터 낮은 시도까지의 순서를 확인할 수 있습니다."
   ]
  },
  {
   "cell_type": "markdown",
   "id": "ee17effb-3dc1-4fe7-a68c-7a1034a3608a",
   "metadata": {},
   "source": [
    "---\n",
    "### [Most Popular Programming Languages]"
   ]
  },
  {
   "cell_type": "markdown",
   "id": "aac0831f-7232-4703-b41b-7c95542b3182",
   "metadata": {},
   "source": [
    "#### 목표: 주어진 자료를 각 조건에 맞게 결과를 출력하기\n",
    "\r\n"
   ]
  },
  {
   "cell_type": "markdown",
   "id": "22bc85c7-7c87-4082-9049-c6e976f8e342",
   "metadata": {},
   "source": [
    "1. 프로그램언어별 전체 조사 기간 동안 평균 스코어를 구하고, 평균 스코어가 높은 순으로 나타내라."
   ]
  },
  {
   "cell_type": "markdown",
   "id": "5c2a56b4-b6a5-4b57-8ae1-ae7ba7820b5a",
   "metadata": {},
   "source": [
    "- 주어진 CSV 파일을 데이터프레임으로 불러오고 melt 함수를 통해 데이터프레임을 long 형식으로 변환합니다.\n",
    "- 그리고 Date 열을 각 행의 기준으로 잡고 원래의 열들을 하나의 Language 열로 모읍니다.\n",
    "- 마지막으로 각 프로그래밍 스코어 값을 Score 열에 저장합니다."
   ]
  },
  {
   "cell_type": "code",
   "execution_count": 6,
   "id": "e7938d1d-665e-403e-843f-6c8d6412a326",
   "metadata": {},
   "outputs": [],
   "source": [
    "mpp = pd.read_csv(\"data/Most_Popular_Programming_Languages.csv\")\n",
    "mpp_m = mpp.melt(id_vars=\"Date\", \n",
    "        var_name=\"Language\", value_name = \"Score\")"
   ]
  },
  {
   "cell_type": "markdown",
   "id": "51148b49-fe9c-45b0-91d8-83ebde1d33f3",
   "metadata": {},
   "source": [
    "- 먼저 Score 열의 데이터들을 숫자형으로 변환해줍니다.   \n",
    "- mpp_m 데이터프레임을 \"Language\" 열을 기준으로 그룹화하여 각 프로그래밍 언어별로 Score 평균 값을 계산하고 avg_mpp에 저장합니다."
   ]
  },
  {
   "cell_type": "code",
   "execution_count": 7,
   "id": "bf39d161-da89-4554-9b23-1301112b7b99",
   "metadata": {},
   "outputs": [],
   "source": [
    "mpp_m['Score'] = pd.to_numeric(mpp_m['Score'], errors='coerce')\n",
    "avg_mpp = mpp_m.groupby(\"Language\")['Score'].mean().reset_index()"
   ]
  },
  {
   "cell_type": "markdown",
   "id": "bc567f0f-49fe-4c9d-bbb3-88e8bdb32a6f",
   "metadata": {},
   "source": [
    "- 그리고 avg_mpp 데이터프레임에 새로운 열(순위)을 추가하고 내림차순으로 정렬하고 avg_mpp의 데이터 타입을 출력합니다.    \n",
    "- 다시 avg_mpp를 '순위' 열을 기준으로 오름차순 정렬합니다"
   ]
  },
  {
   "cell_type": "code",
   "execution_count": 26,
   "id": "35667134-4e32-4d76-97b2-a7344c67c205",
   "metadata": {},
   "outputs": [
    {
     "name": "stdout",
     "output_type": "stream",
     "text": [
      "type=  <class 'pandas.core.frame.DataFrame'>\n"
     ]
    },
    {
     "data": {
      "text/html": [
       "<div>\n",
       "<style scoped>\n",
       "    .dataframe tbody tr th:only-of-type {\n",
       "        vertical-align: middle;\n",
       "    }\n",
       "\n",
       "    .dataframe tbody tr th {\n",
       "        vertical-align: top;\n",
       "    }\n",
       "\n",
       "    .dataframe thead th {\n",
       "        text-align: right;\n",
       "    }\n",
       "</style>\n",
       "<table border=\"1\" class=\"dataframe\">\n",
       "  <thead>\n",
       "    <tr style=\"text-align: right;\">\n",
       "      <th></th>\n",
       "      <th>Year</th>\n",
       "      <th>Language</th>\n",
       "      <th>Score</th>\n",
       "      <th>순위</th>\n",
       "    </tr>\n",
       "  </thead>\n",
       "  <tbody>\n",
       "    <tr>\n",
       "      <th>0</th>\n",
       "      <td>2020</td>\n",
       "      <td>Python</td>\n",
       "      <td>31.0125</td>\n",
       "      <td>1.0</td>\n",
       "    </tr>\n",
       "    <tr>\n",
       "      <th>1</th>\n",
       "      <td>2007</td>\n",
       "      <td>Java</td>\n",
       "      <td>30.5625</td>\n",
       "      <td>2.0</td>\n",
       "    </tr>\n",
       "    <tr>\n",
       "      <th>2</th>\n",
       "      <td>2021</td>\n",
       "      <td>Python</td>\n",
       "      <td>30.2900</td>\n",
       "      <td>3.0</td>\n",
       "    </tr>\n",
       "    <tr>\n",
       "      <th>3</th>\n",
       "      <td>2005</td>\n",
       "      <td>Java</td>\n",
       "      <td>30.2125</td>\n",
       "      <td>4.0</td>\n",
       "    </tr>\n",
       "    <tr>\n",
       "      <th>4</th>\n",
       "      <td>2006</td>\n",
       "      <td>Java</td>\n",
       "      <td>30.1050</td>\n",
       "      <td>5.0</td>\n",
       "    </tr>\n",
       "    <tr>\n",
       "      <th>...</th>\n",
       "      <td>...</td>\n",
       "      <td>...</td>\n",
       "      <td>...</td>\n",
       "      <td>...</td>\n",
       "    </tr>\n",
       "    <tr>\n",
       "      <th>502</th>\n",
       "      <td>2004</td>\n",
       "      <td>Go</td>\n",
       "      <td>0.0000</td>\n",
       "      <td>508.5</td>\n",
       "    </tr>\n",
       "    <tr>\n",
       "      <th>503</th>\n",
       "      <td>2004</td>\n",
       "      <td>Dart</td>\n",
       "      <td>0.0000</td>\n",
       "      <td>508.5</td>\n",
       "    </tr>\n",
       "    <tr>\n",
       "      <th>504</th>\n",
       "      <td>2009</td>\n",
       "      <td>Kotlin</td>\n",
       "      <td>0.0000</td>\n",
       "      <td>508.5</td>\n",
       "    </tr>\n",
       "    <tr>\n",
       "      <th>506</th>\n",
       "      <td>2007</td>\n",
       "      <td>Go</td>\n",
       "      <td>0.0000</td>\n",
       "      <td>508.5</td>\n",
       "    </tr>\n",
       "    <tr>\n",
       "      <th>531</th>\n",
       "      <td>2009</td>\n",
       "      <td>Go</td>\n",
       "      <td>0.0000</td>\n",
       "      <td>508.5</td>\n",
       "    </tr>\n",
       "  </tbody>\n",
       "</table>\n",
       "<p>532 rows × 4 columns</p>\n",
       "</div>"
      ],
      "text/plain": [
       "     Year Language    Score     순위\n",
       "0    2020   Python  31.0125    1.0\n",
       "1    2007     Java  30.5625    2.0\n",
       "2    2021   Python  30.2900    3.0\n",
       "3    2005     Java  30.2125    4.0\n",
       "4    2006     Java  30.1050    5.0\n",
       "..    ...      ...      ...    ...\n",
       "502  2004       Go   0.0000  508.5\n",
       "503  2004     Dart   0.0000  508.5\n",
       "504  2009   Kotlin   0.0000  508.5\n",
       "506  2007       Go   0.0000  508.5\n",
       "531  2009       Go   0.0000  508.5\n",
       "\n",
       "[532 rows x 4 columns]"
      ]
     },
     "execution_count": 26,
     "metadata": {},
     "output_type": "execute_result"
    }
   ],
   "source": [
    "avg_mpp['순위'] = avg_mpp['Score'].rank(ascending=False)\n",
    "print('type= ', type(avg_mpp))\n",
    "avg_mpp.sort_values(\"순위\", ascending=True)"
   ]
  },
  {
   "cell_type": "markdown",
   "id": "46b03cf8-b1bd-42d7-8543-80dd20274fb3",
   "metadata": {},
   "source": [
    "## 실행결과에 대한 설명"
   ]
  },
  {
   "cell_type": "markdown",
   "id": "db3a58d0-2f43-4a90-9b32-719576f50576",
   "metadata": {},
   "source": [
    "이 코드를 실행한 결과, 각 프로그래밍 언어의 전체 조사 기간 동안의 평균 스코어를 계산하여, 그 값을 기준으로 순위를 매길 수 있었습니다.   \n",
    "이러한 결과를 통해서 어떤 언어가 전체 기간 동안 가장 높은 인기를 유지했는지 알 수 있었고, 평균 스코어가 높은 언어들이 상위에 위치하며, 해당 언어들이 개발자들 사이에서 지속적으로 높은 관심을 받았음을 나타내고 있습니다."
   ]
  },
  {
   "cell_type": "markdown",
   "id": "e620b599-6edf-4b9e-9eda-d201b684cd1b",
   "metadata": {},
   "source": [
    "2. 프로그램언어별 연도별 평균 스코어로 구한 순위를 이용해서 Top 10에 속한 프로그램 언어를 연도별로 보여라."
   ]
  },
  {
   "cell_type": "markdown",
   "id": "26d26326-6dc5-432b-9c60-fb177839047d",
   "metadata": {},
   "source": [
    "- 첫 번째로 pd.to_datetime() 함수에서 format='%B %Y'를 사용하여 날짜 형식을 명시적으로 지정합니다.   \n",
    "- 그 다음 NaN 값 제거 후, groupby()와 mean() 함수를 사용할 때 'Score' 열만 선택하여 평균을 계산합니다.   "
   ]
  },
  {
   "cell_type": "code",
   "execution_count": 9,
   "id": "c4137a63-cc3e-4b5a-8d5f-6f1022ceb33b",
   "metadata": {},
   "outputs": [],
   "source": [
    "mpp_m['Year'] = pd.to_datetime(mpp_m['Date'], format='%B %Y').dt.year\n",
    "mpp_m = mpp_m.dropna(subset=['Score', 'Year'])\n",
    "\n",
    "avg_mpp = mpp_m.groupby([\"Year\", \"Language\"])['Score'].mean().reset_index()"
   ]
  },
  {
   "cell_type": "markdown",
   "id": "97eb5c12-616c-4d26-b87b-75466ab27bc2",
   "metadata": {},
   "source": [
    "- 마지막으로 'Year'를 기준으로 그룹화하여 'Score'를 기준으로 내림차순 순위를 매깁니다. 그 후 '순위'가 10 이하인 데이터만 선택하여 'Year'와 '순위'를 기준으로 오름차순 정렬합니다."
   ]
  },
  {
   "cell_type": "code",
   "execution_count": 10,
   "id": "1af975fd-d128-463a-9c90-9af5364ca455",
   "metadata": {},
   "outputs": [
    {
     "data": {
      "text/html": [
       "<div>\n",
       "<style scoped>\n",
       "    .dataframe tbody tr th:only-of-type {\n",
       "        vertical-align: middle;\n",
       "    }\n",
       "\n",
       "    .dataframe tbody tr th {\n",
       "        vertical-align: top;\n",
       "    }\n",
       "\n",
       "    .dataframe thead th {\n",
       "        text-align: right;\n",
       "    }\n",
       "</style>\n",
       "<table border=\"1\" class=\"dataframe\">\n",
       "  <thead>\n",
       "    <tr style=\"text-align: right;\">\n",
       "      <th></th>\n",
       "      <th>Year</th>\n",
       "      <th>Language</th>\n",
       "      <th>Score</th>\n",
       "      <th>순위</th>\n",
       "    </tr>\n",
       "  </thead>\n",
       "  <tbody>\n",
       "    <tr>\n",
       "      <th>10</th>\n",
       "      <td>2004</td>\n",
       "      <td>Java</td>\n",
       "      <td>29.756667</td>\n",
       "      <td>1.0</td>\n",
       "    </tr>\n",
       "    <tr>\n",
       "      <th>17</th>\n",
       "      <td>2004</td>\n",
       "      <td>PHP</td>\n",
       "      <td>19.333333</td>\n",
       "      <td>2.0</td>\n",
       "    </tr>\n",
       "    <tr>\n",
       "      <th>3</th>\n",
       "      <td>2004</td>\n",
       "      <td>C/C++</td>\n",
       "      <td>9.683333</td>\n",
       "      <td>3.0</td>\n",
       "    </tr>\n",
       "    <tr>\n",
       "      <th>11</th>\n",
       "      <td>2004</td>\n",
       "      <td>JavaScript</td>\n",
       "      <td>8.610000</td>\n",
       "      <td>4.0</td>\n",
       "    </tr>\n",
       "    <tr>\n",
       "      <th>27</th>\n",
       "      <td>2004</td>\n",
       "      <td>Visual Basic</td>\n",
       "      <td>8.391667</td>\n",
       "      <td>5.0</td>\n",
       "    </tr>\n",
       "    <tr>\n",
       "      <th>...</th>\n",
       "      <td>...</td>\n",
       "      <td>...</td>\n",
       "      <td>...</td>\n",
       "      <td>...</td>\n",
       "    </tr>\n",
       "    <tr>\n",
       "      <th>524</th>\n",
       "      <td>2022</td>\n",
       "      <td>R</td>\n",
       "      <td>4.190000</td>\n",
       "      <td>7.0</td>\n",
       "    </tr>\n",
       "    <tr>\n",
       "      <th>520</th>\n",
       "      <td>2022</td>\n",
       "      <td>Objective-C</td>\n",
       "      <td>2.270000</td>\n",
       "      <td>8.0</td>\n",
       "    </tr>\n",
       "    <tr>\n",
       "      <th>528</th>\n",
       "      <td>2022</td>\n",
       "      <td>Swift</td>\n",
       "      <td>1.910000</td>\n",
       "      <td>9.0</td>\n",
       "    </tr>\n",
       "    <tr>\n",
       "      <th>519</th>\n",
       "      <td>2022</td>\n",
       "      <td>Matlab</td>\n",
       "      <td>1.740000</td>\n",
       "      <td>10.0</td>\n",
       "    </tr>\n",
       "    <tr>\n",
       "      <th>529</th>\n",
       "      <td>2022</td>\n",
       "      <td>TypeScript</td>\n",
       "      <td>1.740000</td>\n",
       "      <td>10.0</td>\n",
       "    </tr>\n",
       "  </tbody>\n",
       "</table>\n",
       "<p>191 rows × 4 columns</p>\n",
       "</div>"
      ],
      "text/plain": [
       "     Year      Language      Score    순위\n",
       "10   2004          Java  29.756667   1.0\n",
       "17   2004           PHP  19.333333   2.0\n",
       "3    2004         C/C++   9.683333   3.0\n",
       "11   2004    JavaScript   8.610000   4.0\n",
       "27   2004  Visual Basic   8.391667   5.0\n",
       "..    ...           ...        ...   ...\n",
       "524  2022             R   4.190000   7.0\n",
       "520  2022   Objective-C   2.270000   8.0\n",
       "528  2022         Swift   1.910000   9.0\n",
       "519  2022        Matlab   1.740000  10.0\n",
       "529  2022    TypeScript   1.740000  10.0\n",
       "\n",
       "[191 rows x 4 columns]"
      ]
     },
     "execution_count": 10,
     "metadata": {},
     "output_type": "execute_result"
    }
   ],
   "source": [
    "avg_mpp['순위'] = avg_mpp.groupby(\"Year\")['Score'].rank(method='min', ascending=False)\n",
    "top10 = avg_mpp[avg_mpp['순위'] <= 10].sort_values(['Year', \"순위\"], ascending=[True, True])\n",
    "top10"
   ]
  },
  {
   "cell_type": "markdown",
   "id": "4c8eafdb-bb8c-4bcc-a5e8-0e053c37604d",
   "metadata": {},
   "source": [
    "## 실행결과에 대한 설명"
   ]
  },
  {
   "cell_type": "markdown",
   "id": "fa973a3d-84ab-4c4d-a325-5b68cab8db73",
   "metadata": {},
   "source": [
    "코드 실행 결과, 연도별로 상위 10위에 포함된 프로그래밍 언어들의 평균 스코어와 순위를 확인할 수 있었습니다.   \n",
    "이러한 결과를 통해 각 연도마다 어떤 프로그래밍 언어들이 더 인기를 끌었는지를 파악할 수 있었으며, 특정 언어들이 꾸준히 상위권에 위치하거나 급격하게 순위가 변동되는 추세를 관찰할 수 있습니다.   \n",
    "이는 프로그래밍 언어의 트렌드 변화를 보여주며, 어떤 언어들이 시대적 요구나 기술 발전에 따라 인기가 증가하거나 감소했는지를 나타내고 있습니다."
   ]
  },
  {
   "cell_type": "markdown",
   "id": "fb144673-65c2-49be-9044-faaaeb30b535",
   "metadata": {},
   "source": [
    "3. 2022년 상위 Top 10에 속한 프로그램 언어의 연도별 순위를 보여라."
   ]
  },
  {
   "cell_type": "markdown",
   "id": "4bf46db4-2edb-46e4-a672-7e7199f3af64",
   "metadata": {},
   "source": [
    "아래 코드는 2022년의 Top 10 프로그래밍 언어 순위를 보여줍니다."
   ]
  },
  {
   "cell_type": "code",
   "execution_count": 11,
   "id": "b78fec4a-e40e-4cda-a530-f6bfce127460",
   "metadata": {},
   "outputs": [
    {
     "name": "stdout",
     "output_type": "stream",
     "text": [
      "     Year     Language  Score    순위\n",
      "523  2022       Python  28.74   1.0\n",
      "514  2022         Java  18.01   2.0\n",
      "515  2022   JavaScript   9.07   3.0\n",
      "507  2022        C/C++   7.40   4.0\n",
      "506  2022           C#   7.27   5.0\n",
      "521  2022          PHP   6.06   6.0\n",
      "524  2022            R   4.19   7.0\n",
      "520  2022  Objective-C   2.27   8.0\n",
      "528  2022        Swift   1.91   9.0\n",
      "519  2022       Matlab   1.74  10.0\n",
      "529  2022   TypeScript   1.74  10.0\n"
     ]
    }
   ],
   "source": [
    "result = avg_mpp[(avg_mpp['Year'] == 2022) & (avg_mpp['순위'] <= 10)]\n",
    "\n",
    "print(result.sort_values('순위'))"
   ]
  },
  {
   "cell_type": "markdown",
   "id": "a1591fde-fad4-4b8b-9bec-11755546ad36",
   "metadata": {},
   "source": [
    "- 먼저 avg_mpp 데이터프레임에서 'Year'가 2022년인 행 중 순위가 1위부터 10위까지인 언어들을 추출하여 저장합니다.   \n",
    "- avg_mpp에서 'Language'가 result에 속한 행들만 선택하고 해당 언어들의 모든 연도별 순위 데이터를 가져옵니다.    \n",
    "- 그 후 'Language'와 'Year'를 기준으로 데이터를 오름차순 정렬하고 원하는 열만 선택하여 출력합니다."
   ]
  },
  {
   "cell_type": "code",
   "execution_count": 12,
   "id": "c16edf98-22de-417e-b3bc-72dc842c40f5",
   "metadata": {},
   "outputs": [
    {
     "name": "stdout",
     "output_type": "stream",
     "text": [
      "     Year Language   순위\n",
      "2    2004       C#  7.0\n",
      "30   2005       C#  7.0\n",
      "58   2006       C#  5.0\n",
      "86   2007       C#  5.0\n",
      "114  2008       C#  5.0\n",
      "..    ...      ...  ...\n",
      "416  2018    Swift  9.0\n",
      "444  2019    Swift  9.0\n",
      "472  2020    Swift  9.0\n",
      "500  2021    Swift  9.0\n",
      "528  2022    Swift  9.0\n",
      "\n",
      "[190 rows x 3 columns]\n"
     ]
    }
   ],
   "source": [
    "top = avg_mpp[avg_mpp['Year'] == 2022].nsmallest(10, '순위')\n",
    "result = top['Language'].unique()\n",
    "\n",
    "top_ranking = avg_mpp[avg_mpp['Language'].isin(result)]\n",
    "\n",
    "top_ranking = top_ranking.sort_values(['Language', 'Year'])\n",
    "print(top_ranking[['Year', 'Language', '순위']])"
   ]
  },
  {
   "cell_type": "markdown",
   "id": "28e1bc9d-f4da-4e91-a4ab-64dba1aa4e4e",
   "metadata": {},
   "source": [
    "## 실행결과에 대한 설명"
   ]
  },
  {
   "cell_type": "markdown",
   "id": "c8e5eb9f-7713-4910-9181-a4dc82e4d1f7",
   "metadata": {},
   "source": [
    "이 코드를 실행한 결과, 2022년 기준으로 상위 10위 안에 든 프로그래밍 언어들이 다른 연도에서는 어떤 순위를 기록했는지를 확인할 수 있었습니다.   \n",
    "이러한 결과를 통해서 2022년에 인기가 있었던 언어들이 이전 연도에도 꾸준히 높은 순위를 유지해왔는지, 혹은 급격한 인기 상승을 겪었는지 알 수 있었으며, 각 언어의 연도별 순위 변화를 통해 해당 언어들의 트렌드 변화도 파악할 수 있었습니다."
   ]
  },
  {
   "cell_type": "markdown",
   "id": "1a4b497f-9611-4dfe-8567-6a2a5cb86d6c",
   "metadata": {},
   "source": [
    "---\n",
    "### [시군구별 음식점 데이터]\n",
    "\n",
    "#### 목표: 주어진 자료를 각 조건에 맞게 결과를 출력하기"
   ]
  },
  {
   "cell_type": "markdown",
   "id": "51afe619-4ced-4841-84f6-e52475d79bfc",
   "metadata": {},
   "source": [
    "1. 일반음식점 데이터에서 컬럼 개방자치단체코드와 자치단체코드 데이터의 시군구(자치단체)코드를 연결하여 음식점 소재지인 시군구 컬럼을 추가하라.\r\n"
   ]
  },
  {
   "cell_type": "markdown",
   "id": "48e339a1-cffc-416c-88a2-b97a1e217147",
   "metadata": {},
   "source": [
    "- restaurant는 '일반음식점.csv' 파일에서 데이터를 읽어오고, local은 '자치단체코드.xlsx' 파일에서 데이터를 읽어옵니다.\n",
    "- local 데이터프레임에서 시군구(자치단체)코드와 시군구명 열만 선택하고, 시군구(자치단체)코드를 개방자치단체코드로 이름을 변경합니다.\n",
    "- 또한 개방자치단체코드를 문자열로 변환하고, 소수점 이하를 제거하여 데이터 형식을 통일합니다."
   ]
  },
  {
   "cell_type": "code",
   "execution_count": 69,
   "id": "b92755b0-91ad-4a01-8b7a-121ae28383fa",
   "metadata": {},
   "outputs": [],
   "source": [
    "restaurant = pd.read_csv('data/일반음식점.csv', encoding='cp949', low_memory=False)\n",
    "local = pd.read_excel('data/자치단체코드.xlsx')\n",
    "\n",
    "local = local[['시군구(자치단체)코드', '시군구명']]\n",
    "local = local.rename(columns={'시군구(자치단체)코드': '개방자치단체코드'})\n",
    "\n",
    "local['개방자치단체코드'] = local['개방자치단체코드'].astype(str).str.split('.').str[0]\n",
    "\n",
    "restaurant['개방자치단체코드'] = restaurant['개방자치단체코드'].astype(str)\n",
    "local['개방자치단체코드'] = local['개방자치단체코드'].astype(str)"
   ]
  },
  {
   "cell_type": "markdown",
   "id": "3e25443f-76c6-46ff-9be6-db5cd4872f97",
   "metadata": {},
   "source": [
    "- 그리고 restaurant와 local 데이터를 개방자치단체코드를 기준으로 병합하여, 음식점 데이터에 시군구 정보를 추가합니다. 병합 방식은 'left' 조인을 사용하여 restaurant 데이터의 모든 정보를 유지합니다.   \n",
    "- 마지막으로 병합된 데이터에서 local에서 가져온 '시군구명' 열의 이름을 '시군구'로 변경하고 출력합니다."
   ]
  },
  {
   "cell_type": "code",
   "execution_count": 70,
   "id": "458b568f-8d78-462a-a810-46c34c6fdbc5",
   "metadata": {},
   "outputs": [
    {
     "name": "stdout",
     "output_type": "stream",
     "text": [
      "   개방자치단체코드  시군구\n",
      "0   3220000  강남구\n",
      "1   4090000  김포시\n",
      "2   5670000  창원시\n",
      "3   4200000  강릉시\n",
      "4   4200000  강릉시\n",
      "5   4200000  강릉시\n",
      "6   4200000  강릉시\n",
      "7   4200000  강릉시\n",
      "8   4200000  강릉시\n",
      "9   4200000  강릉시\n",
      "10  4200000  강릉시\n",
      "11  4200000  강릉시\n",
      "12  4200000  강릉시\n",
      "13  4200000  강릉시\n",
      "14  4200000  강릉시\n",
      "15  4200000  강릉시\n",
      "16  3010000   중구\n",
      "17  4520000  아산시\n",
      "18  5130000  경산시\n",
      "19  5020000  포항시\n"
     ]
    }
   ],
   "source": [
    "merged_data = pd.merge(\n",
    "    restaurant,\n",
    "    local,\n",
    "    on='개방자치단체코드',\n",
    "    how='left'\n",
    ")\n",
    "\n",
    "merged_data = merged_data.rename(columns={'시군구명': '시군구'})\n",
    "\n",
    "print(merged_data[['개방자치단체코드', '시군구']].head(20))"
   ]
  },
  {
   "cell_type": "markdown",
   "id": "05c30963-cf5b-49da-aa8a-79c055e9ac83",
   "metadata": {},
   "source": [
    "## 실행결과에 대한 설명"
   ]
  },
  {
   "cell_type": "markdown",
   "id": "9cd1a8ad-4bf8-4697-9828-3120fe487539",
   "metadata": {},
   "source": [
    "이 코드는 '일반음식점' 데이터와 '자치단체코드' 데이터를 병합하여 음식점의 소재지 정보를 추가하는 작업을 수행했습니다.   \n",
    "그 결과, 개방자치단체코드에 대응하는 시군구 정보가 merged_data 데이터프레임에 올바르게 연결되었습니다.   \n",
    "이러한 결과를 통해 각 음식점이 속한 시군구 지역을 확인할 수 있었습니다."
   ]
  },
  {
   "cell_type": "markdown",
   "id": "cee6d611-3cf8-44db-8b72-4f3ccfe9499d",
   "metadata": {},
   "source": [
    "2. 전국 지자체(시군구)별 음식점의 수를 구하라.\r\n"
   ]
  },
  {
   "cell_type": "markdown",
   "id": "547f5470-65ff-4ebc-811a-40c169222ca2",
   "metadata": {},
   "source": [
    "- '시군구명' 기준으로 데이터를 그룹화하여, 동일한 '시군구' 값을 가진 음식점들을 하나의 그룹으로 묶습니다.\n",
    "- size() 함수를 통해 각 그룹(시군구명)마다 몇 개의 음식점이 있는지 개수를 셉니다. 그 결과를 데이터프레임으로 변환하면서, 열 이름을 \"음식점 수\"로 변환합니다."
   ]
  },
  {
   "cell_type": "code",
   "execution_count": 74,
   "id": "69568876-c0a7-486d-b94b-40bc69cf7cf2",
   "metadata": {},
   "outputs": [
    {
     "data": {
      "text/html": [
       "<div>\n",
       "<style scoped>\n",
       "    .dataframe tbody tr th:only-of-type {\n",
       "        vertical-align: middle;\n",
       "    }\n",
       "\n",
       "    .dataframe tbody tr th {\n",
       "        vertical-align: top;\n",
       "    }\n",
       "\n",
       "    .dataframe thead th {\n",
       "        text-align: right;\n",
       "    }\n",
       "</style>\n",
       "<table border=\"1\" class=\"dataframe\">\n",
       "  <thead>\n",
       "    <tr style=\"text-align: right;\">\n",
       "      <th></th>\n",
       "      <th>시군구명</th>\n",
       "      <th>음식점 수</th>\n",
       "    </tr>\n",
       "  </thead>\n",
       "  <tbody>\n",
       "    <tr>\n",
       "      <th>0</th>\n",
       "      <td>가평군</td>\n",
       "      <td>3747</td>\n",
       "    </tr>\n",
       "    <tr>\n",
       "      <th>1</th>\n",
       "      <td>강남구</td>\n",
       "      <td>44934</td>\n",
       "    </tr>\n",
       "    <tr>\n",
       "      <th>2</th>\n",
       "      <td>강동구</td>\n",
       "      <td>21382</td>\n",
       "    </tr>\n",
       "    <tr>\n",
       "      <th>3</th>\n",
       "      <td>강릉시</td>\n",
       "      <td>13229</td>\n",
       "    </tr>\n",
       "    <tr>\n",
       "      <th>4</th>\n",
       "      <td>강북구</td>\n",
       "      <td>15589</td>\n",
       "    </tr>\n",
       "  </tbody>\n",
       "</table>\n",
       "</div>"
      ],
      "text/plain": [
       "  시군구명  음식점 수\n",
       "0  가평군   3747\n",
       "1  강남구  44934\n",
       "2  강동구  21382\n",
       "3  강릉시  13229\n",
       "4  강북구  15589"
      ]
     },
     "execution_count": 74,
     "metadata": {},
     "output_type": "execute_result"
    }
   ],
   "source": [
    "restaurant_count = merged_data.groupby('시군구명').size().reset_index(name='음식점 수')\n",
    "\n",
    "restaurant_count.head()"
   ]
  },
  {
   "cell_type": "markdown",
   "id": "428eebeb-96fd-469f-a1a2-28e0baddf231",
   "metadata": {},
   "source": [
    "## 실행결과에 대한 설명"
   ]
  },
  {
   "cell_type": "markdown",
   "id": "01270bb4-46b3-49d1-bf4e-bf669f1ddc97",
   "metadata": {},
   "source": [
    "이 코드를 실행한 결과, 전국의 각 시군구별로 등록된 음식점의 수를 구할 수 있었습니다.   \n",
    "이러한 결과를 통해서 각 지역별 음식점 분포를 파악할 수 있었고, 특정 지역에 음식점이 많이 밀집되어 있는지, 상대적으로 적은지 알 수 있었습니다."
   ]
  },
  {
   "cell_type": "markdown",
   "id": "46e62ca2-5c74-4183-8f33-a8b27d7da145",
   "metadata": {},
   "source": [
    "3. 전국 지자체(시군구)별 음식점의 수를 폐업 또는 영업중을 구분하여 구하라.\r\n"
   ]
  },
  {
   "cell_type": "markdown",
   "id": "26f4f86e-f996-4875-b105-787c8b944608",
   "metadata": {},
   "source": [
    "- ['시군구', '영업상태명']로 그룹화하여, 각 시군구와 영업상태로 나뉜 음식점 수를 셉니다.\n",
    "- 그룹화 결과를 데이터프레임으로 변환하고, 열의 이름을 '음식점 수'로 지정합니다."
   ]
  },
  {
   "cell_type": "code",
   "execution_count": 76,
   "id": "c7bf26c1-e95b-4aa2-9540-31dbd37cdfb2",
   "metadata": {},
   "outputs": [
    {
     "data": {
      "text/html": [
       "<div>\n",
       "<style scoped>\n",
       "    .dataframe tbody tr th:only-of-type {\n",
       "        vertical-align: middle;\n",
       "    }\n",
       "\n",
       "    .dataframe tbody tr th {\n",
       "        vertical-align: top;\n",
       "    }\n",
       "\n",
       "    .dataframe thead th {\n",
       "        text-align: right;\n",
       "    }\n",
       "</style>\n",
       "<table border=\"1\" class=\"dataframe\">\n",
       "  <thead>\n",
       "    <tr style=\"text-align: right;\">\n",
       "      <th></th>\n",
       "      <th>시군구명</th>\n",
       "      <th>영업상태명</th>\n",
       "      <th>음식점 수</th>\n",
       "    </tr>\n",
       "  </thead>\n",
       "  <tbody>\n",
       "    <tr>\n",
       "      <th>0</th>\n",
       "      <td>가평군</td>\n",
       "      <td>영업/정상</td>\n",
       "      <td>1719</td>\n",
       "    </tr>\n",
       "    <tr>\n",
       "      <th>1</th>\n",
       "      <td>가평군</td>\n",
       "      <td>폐업</td>\n",
       "      <td>2028</td>\n",
       "    </tr>\n",
       "    <tr>\n",
       "      <th>2</th>\n",
       "      <td>강남구</td>\n",
       "      <td>영업/정상</td>\n",
       "      <td>12367</td>\n",
       "    </tr>\n",
       "    <tr>\n",
       "      <th>3</th>\n",
       "      <td>강남구</td>\n",
       "      <td>폐업</td>\n",
       "      <td>32567</td>\n",
       "    </tr>\n",
       "    <tr>\n",
       "      <th>4</th>\n",
       "      <td>강동구</td>\n",
       "      <td>영업/정상</td>\n",
       "      <td>4079</td>\n",
       "    </tr>\n",
       "  </tbody>\n",
       "</table>\n",
       "</div>"
      ],
      "text/plain": [
       "  시군구명  영업상태명  음식점 수\n",
       "0  가평군  영업/정상   1719\n",
       "1  가평군     폐업   2028\n",
       "2  강남구  영업/정상  12367\n",
       "3  강남구     폐업  32567\n",
       "4  강동구  영업/정상   4079"
      ]
     },
     "execution_count": 76,
     "metadata": {},
     "output_type": "execute_result"
    }
   ],
   "source": [
    "restaurant_status = merged_data.groupby(['시군구명', '영업상태명']).size().reset_index(name='음식점 수')\n",
    "\n",
    "restaurant_status.head()"
   ]
  },
  {
   "cell_type": "markdown",
   "id": "407a496c-f63c-4967-a4ec-20f6d3dd0d53",
   "metadata": {},
   "source": [
    "## 실행결과에 대한 설명"
   ]
  },
  {
   "cell_type": "markdown",
   "id": "adb1e560-9af3-4bf3-aa5c-0b97fd3f6d33",
   "metadata": {},
   "source": [
    "이 코드를 실행한 결과, 전국의 각 시군구별로 음식점의 영업 상태(영업중, 폐업 등)를 구분하여 음식점 수를 계산할 수 있었습니다.   \n",
    "이러한 결과를 통해서 각 지역별로 영업 중인 음식점의 수와 폐업한 음식점의 수를 구체적으로 알 수 있었으며, 이를 바탕으로 지역별 음식점 운영 현황을 파악할 수 있었습니다."
   ]
  },
  {
   "cell_type": "markdown",
   "id": "22a66bb4-3d18-43d8-a5e2-fdd89d0ef8fb",
   "metadata": {},
   "source": [
    "4. 위 데이터에서 경북에 소재한 음식점 중에서 현재 시군구별로 영업중인 음식점의 수를 구하라.\r\n"
   ]
  },
  {
   "cell_type": "markdown",
   "id": "893b9c35-adb9-4307-845a-234148a424b6",
   "metadata": {},
   "source": [
    "- merged_data 데이터프레임에서 시군구명 열의 이름을 시군구로 변경하여 이후 분석에 사용할 수 있도록 합니다.\n",
    "- gyungbuk_regions 리스트에 경상북도에 속한 시군구 이름을 정의하여, 필터링에 사용합니다.\n",
    "- 시군구가 gyungbuk_regions 리스트에 포함되고, 영업상태명이 '영업/정상'인 음식점만 필터링하여 gyungbuk_open_restaurants 데이터프레임에 저장합니다."
   ]
  },
  {
   "cell_type": "code",
   "execution_count": 79,
   "id": "6011ffca-6f1d-4a0f-a5f5-755dabb8a994",
   "metadata": {},
   "outputs": [
    {
     "name": "stdout",
     "output_type": "stream",
     "text": [
      "    시군구  영업중인 음식점 수\n",
      "0   경산시        3675\n",
      "1   경주시        5350\n",
      "2   고령군         457\n",
      "3   구미시        5800\n",
      "4   군위군         368\n",
      "5   김천시        2353\n",
      "6   문경시        1366\n",
      "7   봉화군         502\n",
      "8   상주시        1398\n",
      "9   성주군         683\n",
      "10  안동시        2675\n",
      "11  영덕군        1009\n",
      "12  영양군         223\n",
      "13  영주시        1733\n",
      "14  영천시        1646\n",
      "15  예천군         749\n",
      "16  울릉군         288\n",
      "17  울진군        1008\n",
      "18  의성군         766\n",
      "19  청도군         685\n",
      "20  청송군         597\n",
      "21  칠곡군        1907\n",
      "22  포항시        7758\n"
     ]
    }
   ],
   "source": [
    "merged_data = merged_data.rename(columns={'시군구명': '시군구'})\n",
    "\n",
    "gyungbuk_regions = ['포항시', '경주시', '김천시', '안동시', '구미시', '영주시', '영천시', '상주시', \n",
    "                    '문경시', '경산시', '군위군', '의성군', '청송군', '영양군', '영덕군', '청도군', \n",
    "                    '고령군', '성주군', '칠곡군', '예천군', '봉화군', '울진군', '울릉군']\n",
    "\n",
    "gyungbuk_open_restaurants = merged_data[\n",
    "    (merged_data['시군구'].isin(gyungbuk_regions)) & (merged_data['영업상태명'] == '영업/정상')\n",
    "]\n",
    "\n",
    "restaurant_count = gyungbuk_open_restaurants.groupby('시군구').size().reset_index(name='영업중인 음식점 수')\n",
    "\n",
    "print(restaurant_count)"
   ]
  },
  {
   "cell_type": "markdown",
   "id": "d9e7dc84-63ad-425b-ac34-64d2f763a6d0",
   "metadata": {},
   "source": [
    "## 실행결과에 대한 설명"
   ]
  },
  {
   "cell_type": "markdown",
   "id": "dd6d4da6-cc2c-48e8-b6de-0937e210b0cc",
   "metadata": {},
   "source": [
    "이 코드는 경상북도에 속한 시군구별로 현재 영업 중인 음식점 수를 계산하여 출력하는 작업을 수행했습니다.   \n",
    "이러한 결과를 통해 경북 지역 내 각 시군구별로 운영 중인 음식점의 분포를 알 수 있었습니다."
   ]
  },
  {
   "cell_type": "markdown",
   "id": "a64d619e-bb5e-41a2-b7fe-a637d76066cb",
   "metadata": {},
   "source": [
    "5. 전체 음식점 중 폐업비율을 구하고 크기순으로 나타내어라."
   ]
  },
  {
   "cell_type": "markdown",
   "id": "07c41646-5bd1-4023-bc2d-4ac70ce35228",
   "metadata": {},
   "source": [
    "- 모든 시군구별로 전체 음식점의 수를 계산하여 데이터프레임에 저장합니다.\n",
    "- '폐업'인 음식점만 필터링하여 시군구별로 폐업한 음식점 수를 계산하고, 데이터프레임에 저장합니다."
   ]
  },
  {
   "cell_type": "code",
   "execution_count": 83,
   "id": "38b262b0-60ba-41b5-b9b4-502552fe4fd7",
   "metadata": {},
   "outputs": [],
   "source": [
    "total = merged_data.groupby('시군구').size().reset_index(name='전체 음식점 수')\n",
    "closed = merged_data[merged_data['영업상태명'] == '폐업'].groupby('시군구').size().reset_index(name='폐업 음식점 수')"
   ]
  },
  {
   "cell_type": "markdown",
   "id": "30c1fecf-0825-47e1-bc88-c36c9651561e",
   "metadata": {},
   "source": [
    "- 앞의 데이터들을 '시군구'를 기준으로 병합하여 데이터프레임에 저장합니다. 이때 how='left'를 사용하여 전체 음식점 수가 있는 시군구를 모두 포함합니다.\n",
    "- '폐업 음식점 수'를 '전체 음식점 수'로 나누어 폐업 비율을 계산하고, 이를 퍼센트로 변환하여 '폐업 비율'이라는 새로운 열로 추가합니다.\n",
    "- 폐업한 음식점이 없는 경우(NaN 값)를 0으로 대체하여 데이터프레임을 정리합니다."
   ]
  },
  {
   "cell_type": "code",
   "execution_count": 84,
   "id": "de89781d-558a-4299-b569-72ee0331fc4d",
   "metadata": {},
   "outputs": [],
   "source": [
    "merged_counts = pd.merge(total, closed, on='시군구', how='left')\n",
    "merged_counts['폐업 비율'] = (merged_counts['폐업 음식점 수'] / merged_counts['전체 음식점 수']) * 100\n",
    "\n",
    "merged_counts['폐업 음식점 수'] = merged_counts['폐업 음식점 수'].fillna(0)\n",
    "merged_counts['폐업 비율'] = merged_counts['폐업 비율'].fillna(0)"
   ]
  },
  {
   "cell_type": "markdown",
   "id": "69d0dcd9-6b9c-4d35-86f8-9da899ba4d11",
   "metadata": {},
   "source": [
    "- '폐업 비율'을 기준으로 내림차순으로 정렬하여 폐업 비율이 높은 순서대로 나열합니다."
   ]
  },
  {
   "cell_type": "code",
   "execution_count": 85,
   "id": "83b937c4-8c6a-44f6-b4fa-4ff28ace97dc",
   "metadata": {},
   "outputs": [
    {
     "data": {
      "text/html": [
       "<div>\n",
       "<style scoped>\n",
       "    .dataframe tbody tr th:only-of-type {\n",
       "        vertical-align: middle;\n",
       "    }\n",
       "\n",
       "    .dataframe tbody tr th {\n",
       "        vertical-align: top;\n",
       "    }\n",
       "\n",
       "    .dataframe thead th {\n",
       "        text-align: right;\n",
       "    }\n",
       "</style>\n",
       "<table border=\"1\" class=\"dataframe\">\n",
       "  <thead>\n",
       "    <tr style=\"text-align: right;\">\n",
       "      <th></th>\n",
       "      <th>시군구</th>\n",
       "      <th>전체 음식점 수</th>\n",
       "      <th>폐업 음식점 수</th>\n",
       "      <th>폐업 비율</th>\n",
       "    </tr>\n",
       "  </thead>\n",
       "  <tbody>\n",
       "    <tr>\n",
       "      <th>2</th>\n",
       "      <td>강동구</td>\n",
       "      <td>21382</td>\n",
       "      <td>17303</td>\n",
       "      <td>80.923206</td>\n",
       "    </tr>\n",
       "    <tr>\n",
       "      <th>116</th>\n",
       "      <td>양천구</td>\n",
       "      <td>16357</td>\n",
       "      <td>13138</td>\n",
       "      <td>80.320352</td>\n",
       "    </tr>\n",
       "    <tr>\n",
       "      <th>60</th>\n",
       "      <td>동대문구</td>\n",
       "      <td>20116</td>\n",
       "      <td>15848</td>\n",
       "      <td>78.783058</td>\n",
       "    </tr>\n",
       "    <tr>\n",
       "      <th>58</th>\n",
       "      <td>도봉구</td>\n",
       "      <td>11133</td>\n",
       "      <td>8761</td>\n",
       "      <td>78.693973</td>\n",
       "    </tr>\n",
       "    <tr>\n",
       "      <th>4</th>\n",
       "      <td>강북구</td>\n",
       "      <td>15589</td>\n",
       "      <td>12055</td>\n",
       "      <td>77.330169</td>\n",
       "    </tr>\n",
       "    <tr>\n",
       "      <th>...</th>\n",
       "      <td>...</td>\n",
       "      <td>...</td>\n",
       "      <td>...</td>\n",
       "      <td>...</td>\n",
       "    </tr>\n",
       "    <tr>\n",
       "      <th>129</th>\n",
       "      <td>영양군</td>\n",
       "      <td>420</td>\n",
       "      <td>197</td>\n",
       "      <td>46.904762</td>\n",
       "    </tr>\n",
       "    <tr>\n",
       "      <th>89</th>\n",
       "      <td>서귀포시</td>\n",
       "      <td>9240</td>\n",
       "      <td>4282</td>\n",
       "      <td>46.341991</td>\n",
       "    </tr>\n",
       "    <tr>\n",
       "      <th>41</th>\n",
       "      <td>김천시</td>\n",
       "      <td>4340</td>\n",
       "      <td>1987</td>\n",
       "      <td>45.783410</td>\n",
       "    </tr>\n",
       "    <tr>\n",
       "      <th>142</th>\n",
       "      <td>울릉군</td>\n",
       "      <td>495</td>\n",
       "      <td>207</td>\n",
       "      <td>41.818182</td>\n",
       "    </tr>\n",
       "    <tr>\n",
       "      <th>178</th>\n",
       "      <td>청송군</td>\n",
       "      <td>952</td>\n",
       "      <td>355</td>\n",
       "      <td>37.289916</td>\n",
       "    </tr>\n",
       "  </tbody>\n",
       "</table>\n",
       "<p>206 rows × 4 columns</p>\n",
       "</div>"
      ],
      "text/plain": [
       "      시군구  전체 음식점 수  폐업 음식점 수      폐업 비율\n",
       "2     강동구     21382     17303  80.923206\n",
       "116   양천구     16357     13138  80.320352\n",
       "60   동대문구     20116     15848  78.783058\n",
       "58    도봉구     11133      8761  78.693973\n",
       "4     강북구     15589     12055  77.330169\n",
       "..    ...       ...       ...        ...\n",
       "129   영양군       420       197  46.904762\n",
       "89   서귀포시      9240      4282  46.341991\n",
       "41    김천시      4340      1987  45.783410\n",
       "142   울릉군       495       207  41.818182\n",
       "178   청송군       952       355  37.289916\n",
       "\n",
       "[206 rows x 4 columns]"
      ]
     },
     "execution_count": 85,
     "metadata": {},
     "output_type": "execute_result"
    }
   ],
   "source": [
    "result = merged_counts.sort_values(by='폐업 비율', ascending=False)\n",
    "result"
   ]
  },
  {
   "cell_type": "markdown",
   "id": "b6c391a4-1ce7-4d3e-9af2-2bd63d070095",
   "metadata": {},
   "source": [
    "## 실행결과에 대한 설명"
   ]
  },
  {
   "cell_type": "markdown",
   "id": "d3a24ff7-9461-48d9-9585-05eaab80c903",
   "metadata": {},
   "source": [
    "이 코드는 각 시군구별로 전체 음식점 수와 폐업 음식점 수를 계산하여, 폐업 비율을 구하고 이를 내림차순으로 정렬한 결과를 제공합니다.   \n",
    "이러한 결과를 통해서 어느 시군구에서 폐업 비율이 높은지를 알 수 있었습니다."
   ]
  },
  {
   "cell_type": "markdown",
   "id": "1557553d-0b3e-4c1b-8fa6-6b8335f6e9ce",
   "metadata": {},
   "source": [
    "6. 시군구별 거주인구 수 데이터를 구해서 인구수 대비 영업중인 음식점의 비율을 시군구별로 구하고 인구대비음식점의 수가 가장 큰 순으로 나타내어라."
   ]
  },
  {
   "cell_type": "markdown",
   "id": "24849e11-a4bb-4221-a989-b8eb58406844",
   "metadata": {},
   "source": [
    "- 시도별 시군구 매핑을 위해 작성합니다."
   ]
  },
  {
   "cell_type": "code",
   "execution_count": 86,
   "id": "19129ee8-e1ec-420f-bfcb-525ec6289aeb",
   "metadata": {},
   "outputs": [],
   "source": [
    "sido_to_sigungu = {\n",
    "    '서울': ['강남구', '강동구', '강북구', '강서구', '관악구', '광진구', '구로구', '금천구', '노원구', '도봉구', '동대문구', '동작구', '마포구', '서대문구', '서초구', '성동구', '성북구', '송파구', '양천구', '영등포구', '용산구', '은평구', '종로구', '중구', '중랑구'],\n",
    "    '부산': ['강서구', '금정구', '기장군', '남구', '동구', '동래구', '부산진구', '북구', '사상구', '사하구', '서구', '수영구', '연제구', '영도구', '중구', '해운대구'],\n",
    "    '대구': ['남구', '달서구', '달성군', '동구', '북구', '서구', '수성구', '중구'],\n",
    "    '인천': ['강화군', '계양구', '남동구', '동구', '미추홀구', '부평구', '서구', '연수구', '옹진군', '중구'],\n",
    "    '광주': ['광산구', '남구', '동구', '북구', '서구'],\n",
    "    '대전': ['대덕구', '동구', '서구', '유성구', '중구'],\n",
    "    '울산': ['남구', '동구', '북구', '울주군', '중구'],\n",
    "    '세종': ['세종시'],\n",
    "    '경기': ['가평군', '고양시', '과천시', '광명시', '광주시', '구리시', '군포시', '김포시', '남양주시', '동두천시', '부천시', '성남시', '수원시', '시흥시', '안산시', '안성시', '안양시', '양주시', '양평군', '여주시', '연천군', '오산시', '용인시', '의왕시', '의정부시', '이천시', '파주시', '평택시', '포천시', '하남시', '화성시'],\n",
    "    '강원': ['강릉시', '고성군', '동해시', '삼척시', '속초시', '양구군', '양양군', '영월군', '원주시', '인제군', '정선군', '철원군', '춘천시', '태백시', '평창군', '홍천군', '화천군', '횡성군'],\n",
    "    '충북': ['괴산군', '단양군', '보은군', '영동군', '옥천군', '음성군', '제천시', '진천군', '청주시', '충주시', '증평군'],\n",
    "    '충남': ['계룡시', '공주시', '금산군', '논산시', '당진시', '보령시', '부여군', '서산시', '서천군', '아산시', '예산군', '천안시', '청양군', '태안군', '홍성군'],\n",
    "    '전북': ['고창군', '군산시', '김제시', '남원시', '무주군', '부안군', '순창군', '완주군', '익산시', '임실군', '장수군', '전주시', '정읍시', '진안군'],\n",
    "    '전남': ['강진군', '고흥군', '곡성군', '광양시', '구례군', '나주시', '담양군', '목포시', '무안군', '보성군', '순천시', '신안군', '여수시', '영광군', '영암군', '완도군', '장성군', '장흥군', '진도군', '함평군', '해남군', '화순군'],\n",
    "    '경북': ['경산시', '경주시', '고령군', '구미시', '군위군', '김천시', '문경시', '봉화군', '상주시', '성주군', '안동시', '영덕군', '영양군', '영주시', '영천시', '예천군', '울릉군', '울진군', '의성군', '청도군', '청송군', '칠곡군', '포항시'],\n",
    "    '경남': ['거제시', '거창군', '고성군', '김해시', '남해군', '밀양시', '사천시', '산청군', '양산시', '의령군', '진주시', '창녕군', '창원시', '통영시', '하동군', '함안군', '함양군', '합천군'],\n",
    "    '제주': ['서귀포시', '제주시']\n",
    "}"
   ]
  },
  {
   "cell_type": "markdown",
   "id": "f4885c25-cf5f-48e0-b90e-8df30166566b",
   "metadata": {},
   "source": [
    "- sido_to_sigungu 딕셔너리를 이용해 시도별 인구 데이터를 각 시군구에 균등하게 분배하여 시군구별 인구 데이터를 생성합니다.\n",
    "- 생성된 데이터는 expanded_population_data라는 데이터프레임에 저장됩니다."
   ]
  },
  {
   "cell_type": "code",
   "execution_count": 90,
   "id": "64498c9f-3d3b-4d8b-9a24-c5dce551a641",
   "metadata": {},
   "outputs": [],
   "source": [
    "expanded_population_data = pd.DataFrame(columns=['시군구', '총인구'])\n",
    "rows = []\n",
    "\n",
    "for sido, sigungus in sido_to_sigungu.items():\n",
    "    total_population = population_data.loc[population_data['시군구'] == sido, '총인구'].values[0]\n",
    "    for sigungu in sigungus:\n",
    "        rows.append({'시군구': sigungu, '총인구': total_population / len(sigungus)})\n",
    "\n",
    "expanded_population_data = pd.DataFrame(rows)"
   ]
  },
  {
   "cell_type": "markdown",
   "id": "6ba95252-f474-4132-9f37-c08c09e5f98c",
   "metadata": {},
   "source": [
    "- 음식점 데이터(merged_data)와 시군구별 인구 데이터(expanded_population_data)를 시군구를 기준으로 병합합니다.\n",
    "- 병합 결과 merged_population_data 데이터프레임에 각 음식점이 속한 시군구의 인구 데이터가 추가됩니다.\n",
    "- 영업상태명이 '영업/정상'인 음식점만 필터링하여 open_restaurants 데이터프레임을 만듭니다."
   ]
  },
  {
   "cell_type": "code",
   "execution_count": 91,
   "id": "a0c50cb2-d62a-418c-b007-00227cfa93c1",
   "metadata": {},
   "outputs": [],
   "source": [
    "merged_population_data = pd.merge(merged_data, expanded_population_data, on='시군구', how='left')\n",
    "open_restaurants = merged_population_data[merged_population_data['영업상태명'] == '영업/정상']"
   ]
  },
  {
   "cell_type": "markdown",
   "id": "d9042891-3c20-4cc7-b918-f23166d85453",
   "metadata": {},
   "source": [
    "- 영업 중인 음식점 데이터를 시군구별로 그룹화하여 각 시군구에 있는 영업 중인 음식점 수를 계산하고, 결과를 count 데이터프레임에 저장합니다.\n",
    "- count 데이터프레임과 expanded_population_data를 병합하여 시군구별 인구 대비 영업 중인 음식점 수를 계산합니다.\n",
    "- 인구 대비 음식점 비율이 큰 순서대로 정렬하여 result 데이터프레임에 저장합니다."
   ]
  },
  {
   "cell_type": "code",
   "execution_count": 92,
   "id": "2543df1a-b08b-418d-8430-5f547849f604",
   "metadata": {},
   "outputs": [
    {
     "data": {
      "text/html": [
       "<div>\n",
       "<style scoped>\n",
       "    .dataframe tbody tr th:only-of-type {\n",
       "        vertical-align: middle;\n",
       "    }\n",
       "\n",
       "    .dataframe tbody tr th {\n",
       "        vertical-align: top;\n",
       "    }\n",
       "\n",
       "    .dataframe thead th {\n",
       "        text-align: right;\n",
       "    }\n",
       "</style>\n",
       "<table border=\"1\" class=\"dataframe\">\n",
       "  <thead>\n",
       "    <tr style=\"text-align: right;\">\n",
       "      <th></th>\n",
       "      <th>시군구</th>\n",
       "      <th>영업중 음식점 수</th>\n",
       "      <th>총인구</th>\n",
       "      <th>인구 대비 음식점 비율</th>\n",
       "    </tr>\n",
       "  </thead>\n",
       "  <tbody>\n",
       "    <tr>\n",
       "      <th>184</th>\n",
       "      <td>중구</td>\n",
       "      <td>122136</td>\n",
       "      <td>212256.812500</td>\n",
       "      <td>57541.616008</td>\n",
       "    </tr>\n",
       "    <tr>\n",
       "      <th>188</th>\n",
       "      <td>중구</td>\n",
       "      <td>122136</td>\n",
       "      <td>227683.800000</td>\n",
       "      <td>53642.815167</td>\n",
       "    </tr>\n",
       "    <tr>\n",
       "      <th>101</th>\n",
       "      <td>서구</td>\n",
       "      <td>96680</td>\n",
       "      <td>212256.812500</td>\n",
       "      <td>45548.596938</td>\n",
       "    </tr>\n",
       "    <tr>\n",
       "      <th>187</th>\n",
       "      <td>중구</td>\n",
       "      <td>122136</td>\n",
       "      <td>293908.600000</td>\n",
       "      <td>41555.776183</td>\n",
       "    </tr>\n",
       "    <tr>\n",
       "      <th>186</th>\n",
       "      <td>중구</td>\n",
       "      <td>122136</td>\n",
       "      <td>301473.900000</td>\n",
       "      <td>40512.959828</td>\n",
       "    </tr>\n",
       "    <tr>\n",
       "      <th>...</th>\n",
       "      <td>...</td>\n",
       "      <td>...</td>\n",
       "      <td>...</td>\n",
       "      <td>...</td>\n",
       "    </tr>\n",
       "    <tr>\n",
       "      <th>139</th>\n",
       "      <td>연천군</td>\n",
       "      <td>869</td>\n",
       "      <td>449221.354839</td>\n",
       "      <td>193.445835</td>\n",
       "    </tr>\n",
       "    <tr>\n",
       "      <th>146</th>\n",
       "      <td>영양군</td>\n",
       "      <td>223</td>\n",
       "      <td>116422.130435</td>\n",
       "      <td>191.544339</td>\n",
       "    </tr>\n",
       "    <tr>\n",
       "      <th>23</th>\n",
       "      <td>과천시</td>\n",
       "      <td>403</td>\n",
       "      <td>449221.354839</td>\n",
       "      <td>89.710784</td>\n",
       "    </tr>\n",
       "    <tr>\n",
       "      <th>52</th>\n",
       "      <td>남양주</td>\n",
       "      <td>6965</td>\n",
       "      <td>NaN</td>\n",
       "      <td>NaN</td>\n",
       "    </tr>\n",
       "    <tr>\n",
       "      <th>71</th>\n",
       "      <td>동두천</td>\n",
       "      <td>1321</td>\n",
       "      <td>NaN</td>\n",
       "      <td>NaN</td>\n",
       "    </tr>\n",
       "  </tbody>\n",
       "</table>\n",
       "<p>228 rows × 4 columns</p>\n",
       "</div>"
      ],
      "text/plain": [
       "     시군구  영업중 음식점 수            총인구  인구 대비 음식점 비율\n",
       "184   중구     122136  212256.812500  57541.616008\n",
       "188   중구     122136  227683.800000  53642.815167\n",
       "101   서구      96680  212256.812500  45548.596938\n",
       "187   중구     122136  293908.600000  41555.776183\n",
       "186   중구     122136  301473.900000  40512.959828\n",
       "..   ...        ...            ...           ...\n",
       "139  연천군        869  449221.354839    193.445835\n",
       "146  영양군        223  116422.130435    191.544339\n",
       "23   과천시        403  449221.354839     89.710784\n",
       "52   남양주       6965            NaN           NaN\n",
       "71   동두천       1321            NaN           NaN\n",
       "\n",
       "[228 rows x 4 columns]"
      ]
     },
     "execution_count": 92,
     "metadata": {},
     "output_type": "execute_result"
    }
   ],
   "source": [
    "count = open_restaurants.groupby('시군구').size().reset_index(name='영업중 음식점 수')\n",
    "\n",
    "restaurant_population = pd.merge(count, expanded_population_data, on='시군구', how='left')\n",
    "restaurant_population['인구 대비 음식점 비율'] = (restaurant_population['영업중 음식점 수'] / restaurant_population['총인구']) * 100000\n",
    "\n",
    "result = restaurant_population.sort_values(by='인구 대비 음식점 비율', ascending=False)\n",
    "result"
   ]
  },
  {
   "cell_type": "markdown",
   "id": "22ee4fdf-b7bd-4114-8aa9-309075e17eb0",
   "metadata": {},
   "source": [
    "## 실행결과에 대한 설명"
   ]
  },
  {
   "cell_type": "markdown",
   "id": "7f62bc0b-0771-4284-9929-782f70ab5519",
   "metadata": {},
   "source": [
    "이 코드는 시군구별로 인구 대비 영업 중인 음식점의 비율을 계산하고, 이를 높은 순서대로 정렬하여 보여줍니다.   \n",
    "이러한 결과를 통해 각 시군구의 인구 대비 음식점 밀집도를 알 수 있었고, 특정 시군구가 다른 지역에 비해 음식점이 상대적으로 많이 분포해 있음을 나타내고 있습니다."
   ]
  },
  {
   "cell_type": "markdown",
   "id": "04758aba-fbaf-405f-b50f-1059ae07b6c6",
   "metadata": {},
   "source": [
    "7. 음식점 데이터에서 ’업태구분명’은 음식점의 종류이다. 분석에서 관심 업태는 [‘한식’, ‘치킨’, ‘분식’, ‘양식’, ‘식육(숯불구이)’, ‘중국식’, ‘일식’, ‘까페’, ‘패스트푸드’] 이고 이를 위해서 기존 저장된 업태를 아래와 같이 변경하여라.\r\n"
   ]
  },
  {
   "cell_type": "markdown",
   "id": "07eb01a0-c843-428f-a2a9-5fbcefcb9250",
   "metadata": {},
   "source": [
    "- dropna()를 이용해 업태구분명 열에 NaN(결측값)이 있는 행을 삭제합니다.\n",
    "- '업태구분명' 열의 값을 모두 문자열(str)로 변환하여 문자열 처리 작업을 수행합니다."
   ]
  },
  {
   "cell_type": "code",
   "execution_count": 93,
   "id": "451d2bb2-aeb8-49c1-9ecc-8085b698c5b3",
   "metadata": {},
   "outputs": [],
   "source": [
    "restaurant_data = pd.read_csv('data/일반음식점.csv', encoding='cp949', low_memory=False)\n",
    "\n",
    "restaurant_data = restaurant_data.dropna(subset=['업태구분명'])\n",
    "restaurant_data['업태구분명'] = restaurant_data['업태구분명'].astype(str)"
   ]
  },
  {
   "cell_type": "markdown",
   "id": "cbc3a152-4152-4835-af45-e3707c19094e",
   "metadata": {},
   "source": [
    "- 업태구분명이 숫자인 행과 한글, 영어, 공백, 슬래시 등 정상적인 문자로 구성되지 않은 값을 제거합니다.\n",
    "- replace 메서드를 사용하여 기존의 다양한 업태명을 지정된 새 업태명으로 변경합니다."
   ]
  },
  {
   "cell_type": "code",
   "execution_count": 95,
   "id": "0714ab50-6570-431d-a016-871b368e14d3",
   "metadata": {},
   "outputs": [
    {
     "name": "stdout",
     "output_type": "stream",
     "text": [
      "0          한식\n",
      "1          치킨\n",
      "2          기타\n",
      "3          한식\n",
      "4          기타\n",
      "           ..\n",
      "2018760    한식\n",
      "2018761    한식\n",
      "2018762    한식\n",
      "2018763    한식\n",
      "2018764    양식\n",
      "Name: 업태구분명, Length: 1872811, dtype: object\n"
     ]
    }
   ],
   "source": [
    "import re\n",
    "\n",
    "restaurant_data = restaurant_data[~restaurant_data['업태구분명'].str.isnumeric()]\n",
    "restaurant_data = restaurant_data[restaurant_data['업태구분명'].apply(lambda x: bool(re.match('^[가-힣A-Za-z/ ]+$', str(x))))]\n",
    "\n",
    "restaurant_data['업태구분명'] = restaurant_data['업태구분명'].replace({\n",
    "    '라이브카페': '카페',\n",
    "    '카페': '카페',\n",
    "    '커피숍': '카페',\n",
    "    '다방': '카페',\n",
    "    '전통찻집': '카페',\n",
    "    '키즈카페': '카페',\n",
    "    '호프/통닭': '치킨',\n",
    "    '통닭(치킨)': '치킨',\n",
    "    '경양식': '양식',\n",
    "    '패밀리레스트랑': '양식'\n",
    "})\n",
    "\n",
    "print(restaurant_data['업태구분명'])"
   ]
  },
  {
   "cell_type": "markdown",
   "id": "5f4aead2-ff31-4c61-8d8a-3547378638c2",
   "metadata": {},
   "source": [
    "## 실행결과에 대한 설명"
   ]
  },
  {
   "cell_type": "markdown",
   "id": "d9aa84d5-c445-44f0-979a-a2ad6bc81d9c",
   "metadata": {},
   "source": [
    "이 코드를 실행한 결과, '업태구분명'에 대한 데이터가 정리되고 통일화된 업태 리스트가 생성되었습니다.  \n",
    "이러한 결과를 통해서 유사한 업태들이 하나의 범주로 통합되었음을 알 수 있었고, 데이터의 일관성이 확보되었습니다."
   ]
  },
  {
   "cell_type": "markdown",
   "id": "ed35f33f-0777-42f3-8d69-17bd3e0ff958",
   "metadata": {},
   "source": [
    "8. 지역별 관심업태에 따른 음식점의 수를 구하라."
   ]
  },
  {
   "cell_type": "markdown",
   "id": "10cd7a19-48f7-4e05-8733-1c37f78ffb6b",
   "metadata": {},
   "source": [
    "- '서울특별시 강남구' 같은 형식의 시/군/구 정보를 추출합니다. 이를 통해 조금 더 세밀한 시/군/구 추출을 합니다."
   ]
  },
  {
   "cell_type": "code",
   "execution_count": 96,
   "id": "deef7b28-c2aa-43f0-82c8-a95b8daa51d9",
   "metadata": {},
   "outputs": [],
   "source": [
    "def extract_region(address):\n",
    "    pattern = r'([가-힣]+[도|시]\\s*[가-힣]+[시|군|구])'\n",
    "    if isinstance(address, str):\n",
    "        match = re.search(pattern, address)\n",
    "        if match:\n",
    "            return match.group(1)\n",
    "    return '기타'\n",
    "\n",
    "restaurant_data = pd.read_csv('data/일반음식점.csv', encoding='cp949', low_memory=False)\n",
    "\n",
    "restaurant_data['소재지전체주소'] = restaurant_data['소재지전체주소'].fillna('')\n",
    "restaurant_data['소재지전체주소'] = restaurant_data['소재지전체주소'].astype(str)"
   ]
  },
  {
   "cell_type": "markdown",
   "id": "8e290ee7-c602-41bf-9aeb-1f10eb02934e",
   "metadata": {},
   "source": [
    "- apply 메서드를 사용하여 소재지전체주소에서 시/군/구 정보를 추출하고, 새로운 열 '시군구'에 저장합니다.\n",
    "- '기타'로 표시된 명확하지 않은 시군구 정보는 분석에 불필요하므로 제거합니다."
   ]
  },
  {
   "cell_type": "code",
   "execution_count": 97,
   "id": "ae2e010f-02a9-484b-b62f-3dd61405f35d",
   "metadata": {},
   "outputs": [
    {
     "name": "stdout",
     "output_type": "stream",
     "text": [
      "           시군구     업태구분명  음식점 수\n",
      "0      강원도 강릉시        분식    893\n",
      "1      강원도 강릉시  식육(숯불구이)    842\n",
      "2      강원도 강릉시        일식    136\n",
      "3      강원도 강릉시       중국식    378\n",
      "4      강원도 강릉시     패스트푸드    183\n",
      "...        ...       ...    ...\n",
      "1376  충청북도 충주시  식육(숯불구이)    224\n",
      "1377  충청북도 충주시        일식    135\n",
      "1378  충청북도 충주시       중국식    302\n",
      "1379  충청북도 충주시     패스트푸드    112\n",
      "1380  충청북도 충주시        한식   5288\n",
      "\n",
      "[1375 rows x 3 columns]\n"
     ]
    }
   ],
   "source": [
    "restaurant_data['시군구'] = restaurant_data['소재지전체주소'].apply(extract_region)\n",
    "interest_uptei = ['한식', '치킨', '분식', '양식', '식육(숯불구이)', '중국식', '일식', '카페', '패스트푸드']\n",
    "\n",
    "filtered_data = restaurant_data[restaurant_data['업태구분명'].isin(interest_uptei)]\n",
    "region_interest_count = filtered_data.groupby(['시군구', '업태구분명']).size().reset_index(name='음식점 수')\n",
    "\n",
    "region_interest_count = region_interest_count[region_interest_count['시군구'] != '기타']\n",
    "\n",
    "print(region_interest_count)"
   ]
  },
  {
   "cell_type": "markdown",
   "id": "7b294d57-f064-476e-9e94-f4286036b8d6",
   "metadata": {},
   "source": [
    "## 실행결과에 대한 설명"
   ]
  },
  {
   "cell_type": "markdown",
   "id": "376da2e4-f0a6-4a70-a72a-e1005e4dd18b",
   "metadata": {},
   "source": [
    "이 코드를 실행한 결과, 음식점의 소재지 주소에서 시군구 정보를 추출하여 '시군구' 컬럼을 생성한 후, 관심 있는 업태별로 음식점 수를 집계한 데이터프레임이 생성되었습니다.   \n",
    "이러한 결과를 통해서 특정 지역의 음식점 분포를 파악할 수 있었고, 관심 있는 업태가 어떤 지역에서 얼마나 분포되어 있는지를 명확히 나타내고 있습니다."
   ]
  }
 ],
 "metadata": {
  "kernelspec": {
   "display_name": "Python 3 (ipykernel)",
   "language": "python",
   "name": "python3"
  },
  "language_info": {
   "codemirror_mode": {
    "name": "ipython",
    "version": 3
   },
   "file_extension": ".py",
   "mimetype": "text/x-python",
   "name": "python",
   "nbconvert_exporter": "python",
   "pygments_lexer": "ipython3",
   "version": "3.12.4"
  }
 },
 "nbformat": 4,
 "nbformat_minor": 5
}
